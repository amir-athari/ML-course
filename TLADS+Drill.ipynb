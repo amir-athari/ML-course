{
 "cells": [
  {
   "cell_type": "markdown",
   "metadata": {},
   "source": [
    "source:\n",
    "https://thinkful-ed.github.io/data-201-resources/ESS_practice_data/ESS_codebook.html"
   ]
  },
  {
   "cell_type": "markdown",
   "metadata": {},
   "source": [
    "- Continuous ordinal value\n",
    "ppltrst, pplfair, pplhlp, happy\n",
    "\n",
    "Manipulation and visualization\n",
    "Naturally order, uniquness, top, frequency, subjective ranking, mode, median, range\n",
    "pie chart, boxplot\n",
    "\n",
    "==========================================\n",
    "- Continuous ratio value\n",
    "year, agea\n",
    "\n",
    "Manipulation and visualization\n",
    "We have true zero. Highest level and can do all 4 mathematical operations. Mean, mode, median, range.\n",
    "boxplot, histogram, \n",
    "\n",
    "==========================================\n",
    "- Continuous interval value\n",
    "year, tvtot, sclact, sclmeet\n",
    "\n",
    "Manipulation and visualization\n",
    "Can do all addition and subtraction. Individually or pairwise. Difference is meaningful.\n",
    "Histogram\n",
    "\n",
    "==========================================\n",
    "- Categorical or nominal value\n",
    "cntry, idno, gndr, partner\n",
    "\n",
    "Manipulation and visualization\n",
    "- count, mode\n",
    "- frequencu\n",
    "- pie/bar\n"
   ]
  },
  {
   "cell_type": "code",
   "execution_count": null,
   "metadata": {
    "collapsed": true
   },
   "outputs": [],
   "source": []
  }
 ],
 "metadata": {
  "kernelspec": {
   "display_name": "Python 3",
   "language": "python",
   "name": "python3"
  },
  "language_info": {
   "codemirror_mode": {
    "name": "ipython",
    "version": 3
   },
   "file_extension": ".py",
   "mimetype": "text/x-python",
   "name": "python",
   "nbconvert_exporter": "python",
   "pygments_lexer": "ipython3",
   "version": "3.6.3"
  }
 },
 "nbformat": 4,
 "nbformat_minor": 2
}
