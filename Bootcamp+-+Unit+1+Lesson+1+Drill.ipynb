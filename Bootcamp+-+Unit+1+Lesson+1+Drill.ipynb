{
 "cells": [
  {
   "cell_type": "markdown",
   "metadata": {},
   "source": [
    "<h2>What can data science do?</h2>\n",
    "\n",
    "<h3>Question 1</h3>\n",
    "This is about research design and we will start looking at existing data on individual visitor's session. Variables that we can convert to measurable factors are time spent on a specific page or section of the page. Number of clicks on certain objects that are related to these products. Association between clicks on certain objects and actual purchase of the same. Association can be in terms of duration of decision, speed of decision, path taken to purchase decision and etc. To identify which one to feature we need to have more business data. Also, we may not need to feature most popular products as it sells without extra help. Instead we may promote a product with bigger profit margin or other business needs. \n",
    "\n",
    "A product may have many more clicks but with little final sale compared to another. Also, knowing frequency of buyers per product we may uncover other interesting relationship.\n",
    "\n",
    "In short, we need to loop back and forth from deductive (start from theory) to inductive (start from observation) reasoning so be able to operationalize relevant metrics.\n",
    "\n",
    "<h3>Question 2</h3>\n",
    "Here we can use the concept of AIDA (Attention, Interest, Desire, Action).\n",
    "Marketing dollar spent can be correlated with Attention part. The more marketing money spent we should experience more visit. We can test if there is any relationship between these two. However, the purpose of marketing is not to have visit only but convert those to sales in this case. So, after visiting the site the onboarding data can reveal more relationship. For example, we can find out the percentage of site visits that convert to filling the form then selecting a plan and finally pay for it. One easy and interesting variable is return on investments (ROI) which is the profit collected from new sales divided by the amount of dollar spent on marketing. Also, the timestamp in each phase of funnel can reveal any bottleneck either as technical or mental readiness in committing to a purchase. Maybe the buyer needs more supporting information or assurance.\n",
    "\n",
    "\n",
    "<h3>Question 3</h3>\n",
    "We already have the price for each hotel and I assume the only remaining feature about each hotel is the availability. So we have two variables P and V. \n",
    "\n",
    "I can set up following ranking system:\n",
    "\n",
    "- Low P and High V may indicate bad quality.\n",
    "- Low P and Low V may indicate good deals.\n",
    "- High P and High V may indicate luxury hotels.\n",
    "- High P and Low V may indicate luxury and small boutique hotels.\n",
    "\n",
    "The reduction speed of vacancy for each hotel can also be a good indicator of hot deals. \n",
    "We can also measure the percentage of a specific hotel number of rooms compared to total rooms available in the city.\n",
    "A kind of market share. The higher the market share the more pricing power a hotel has. This may give some indications to buyers when to commit to their purchases.\n",
    "\n",
    "<h3>Question 4</h3>\n",
    "Number of login in relation to number of network connections can be a good indicator of churn factor. Also, the less one has connection the less one is in the need of log in. Also, good to see if these log ins are related to any content addition and its type. For example, does one log in to update a status. What about log in and read about others. Again, this site is about network so studying the individual behavour in isolation may not reveal much.\n"
   ]
  },
  {
   "cell_type": "code",
   "execution_count": null,
   "metadata": {
    "collapsed": true
   },
   "outputs": [],
   "source": []
  }
 ],
 "metadata": {
  "kernelspec": {
   "display_name": "Python 3",
   "language": "python",
   "name": "python3"
  },
  "language_info": {
   "codemirror_mode": {
    "name": "ipython",
    "version": 3
   },
   "file_extension": ".py",
   "mimetype": "text/x-python",
   "name": "python",
   "nbconvert_exporter": "python",
   "pygments_lexer": "ipython3",
   "version": "3.6.3"
  }
 },
 "nbformat": 4,
 "nbformat_minor": 2
}
