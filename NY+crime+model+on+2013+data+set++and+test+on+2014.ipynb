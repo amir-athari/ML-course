{
 "cells": [
  {
   "cell_type": "markdown",
   "metadata": {},
   "source": [
    "<h2> Building a maultivariable regressor using crime data in New York State in 2013 and 2014, provided by the FBI: UCR.\n",
    "Train, Test and Validate</h2> "
   ]
  },
  {
   "cell_type": "code",
   "execution_count": 142,
   "metadata": {},
   "outputs": [],
   "source": [
    "import math\n",
    "import warnings\n",
    "\n",
    "from IPython.display import display\n",
    "from matplotlib import pyplot as plt\n",
    "import numpy as np\n",
    "import pandas as pd\n",
    "import seaborn as sns\n",
    "from sklearn import linear_model\n",
    "import statsmodels.formula.api as smf\n",
    "\n",
    "# Display preferences.\n",
    "%matplotlib inline"
   ]
  },
  {
   "cell_type": "code",
   "execution_count": 143,
   "metadata": {
    "collapsed": true
   },
   "outputs": [],
   "source": [
    "# Grab and process the cleaned data\n",
    "path1 = (\"C:/Users/aath/Dropbox/MAEN/Thankful/Data/NY Crime/NY_Crime_2013_cleaned.csv\")\n",
    "path2 = (\"C:/Users/aath/Dropbox/MAEN/Thankful/Data/NY Crime/NY_Crime_2014_cleaned.csv\")\n",
    "df_2013 = pd.read_csv(path1)\n",
    "df_2014 = pd.read_csv(path2)"
   ]
  },
  {
   "cell_type": "code",
   "execution_count": 144,
   "metadata": {},
   "outputs": [
    {
     "data": {
      "text/plain": [
       "(City            object\n",
       " prop             int64\n",
       " pop              int64\n",
       " murd             int64\n",
       " rob              int64\n",
       " violent          int64\n",
       " assul            int64\n",
       " burg             int64\n",
       " theft            int64\n",
       " motor            int64\n",
       " pop_log        float64\n",
       " murd_binary      int64\n",
       " rob_binary       int64\n",
       " dtype: object, City            object\n",
       " prop             int64\n",
       " pop              int64\n",
       " murd             int64\n",
       " rob              int64\n",
       " violent          int64\n",
       " assul            int64\n",
       " burg             int64\n",
       " theft            int64\n",
       " motor            int64\n",
       " pop_log        float64\n",
       " murd_binary      int64\n",
       " rob_binary       int64\n",
       " dtype: object)"
      ]
     },
     "execution_count": 144,
     "metadata": {},
     "output_type": "execute_result"
    }
   ],
   "source": [
    "df_2013.dtypes, df_2014.dtypes"
   ]
  },
  {
   "cell_type": "code",
   "execution_count": 145,
   "metadata": {
    "collapsed": true
   },
   "outputs": [],
   "source": [
    "cols1 = [col for col in df_2013.columns if col not in ['City']]"
   ]
  },
  {
   "cell_type": "code",
   "execution_count": 146,
   "metadata": {
    "collapsed": true
   },
   "outputs": [],
   "source": [
    "cols2 = [col for col in df_2014.columns if col not in ['City']]"
   ]
  },
  {
   "cell_type": "code",
   "execution_count": 147,
   "metadata": {
    "collapsed": true
   },
   "outputs": [],
   "source": [
    "def coerce_df_columns_to_numeric(df, cols1):\n",
    "    df[cols1] = df[cols1].apply(pd.to_numeric, errors='coerce')"
   ]
  },
  {
   "cell_type": "code",
   "execution_count": 148,
   "metadata": {
    "collapsed": true
   },
   "outputs": [],
   "source": [
    "def coerce_df_columns_to_numeric(df, cols2):\n",
    "    df[cols2] = df[cols2].apply(pd.to_numeric, errors='coerce')"
   ]
  },
  {
   "cell_type": "code",
   "execution_count": 149,
   "metadata": {
    "collapsed": true
   },
   "outputs": [],
   "source": [
    "df_2013[cols1] = df_2013[cols1].astype('float64')"
   ]
  },
  {
   "cell_type": "code",
   "execution_count": 150,
   "metadata": {
    "scrolled": true
   },
   "outputs": [
    {
     "data": {
      "text/plain": [
       "(City            object\n",
       " prop           float64\n",
       " pop            float64\n",
       " murd           float64\n",
       " rob            float64\n",
       " violent        float64\n",
       " assul          float64\n",
       " burg           float64\n",
       " theft          float64\n",
       " motor          float64\n",
       " pop_log        float64\n",
       " murd_binary    float64\n",
       " rob_binary     float64\n",
       " dtype: object, City            object\n",
       " prop             int64\n",
       " pop              int64\n",
       " murd             int64\n",
       " rob              int64\n",
       " violent          int64\n",
       " assul            int64\n",
       " burg             int64\n",
       " theft            int64\n",
       " motor            int64\n",
       " pop_log        float64\n",
       " murd_binary      int64\n",
       " rob_binary       int64\n",
       " dtype: object)"
      ]
     },
     "execution_count": 150,
     "metadata": {},
     "output_type": "execute_result"
    }
   ],
   "source": [
    "df_2013.dtypes, df_2014.dtypes"
   ]
  },
  {
   "cell_type": "code",
   "execution_count": 151,
   "metadata": {
    "scrolled": true
   },
   "outputs": [
    {
     "data": {
      "text/plain": [
       "(                       City  prop     pop  murd  rob  violent  assul  burg  \\\n",
       " 0             Adams Village  12.0  1861.0   0.0  0.0      0.0    0.0   2.0   \n",
       " 1  Addison Town and Village  24.0  2577.0   0.0  0.0      3.0    3.0   3.0   \n",
       " 2             Akron Village  16.0  2846.0   0.0  0.0      3.0    3.0   1.0   \n",
       " \n",
       "    theft  motor   pop_log  murd_binary  rob_binary  \n",
       " 0   10.0    0.0  7.528869          0.0         0.0  \n",
       " 1   20.0    1.0  7.854381          0.0         0.0  \n",
       " 2   15.0    0.0  7.953670          0.0         0.0  ,\n",
       "                        City  prop   pop  murd  rob  violent  assul  burg  \\\n",
       " 0             Adams Village    11  1851     0    0        0      0     1   \n",
       " 1  Addison Town and Village    49  2568     0    1        2      1     1   \n",
       " 2            Afton Village4     1   820     0    0        0      0     0   \n",
       " \n",
       "    theft  motor   pop_log  murd_binary  rob_binary  \n",
       " 0     10      0  7.523481            0           0  \n",
       " 1     47      1  7.850883            0           1  \n",
       " 2      1      0  6.709304            0           0  )"
      ]
     },
     "execution_count": 151,
     "metadata": {},
     "output_type": "execute_result"
    }
   ],
   "source": [
    "df_2013.head(3), df_2014.head(3)"
   ]
  },
  {
   "cell_type": "code",
   "execution_count": 152,
   "metadata": {},
   "outputs": [
    {
     "data": {
      "text/plain": [
       "(City           0\n",
       " prop           0\n",
       " pop            0\n",
       " murd           0\n",
       " rob            0\n",
       " violent        0\n",
       " assul          0\n",
       " burg           0\n",
       " theft          0\n",
       " motor          0\n",
       " pop_log        0\n",
       " murd_binary    0\n",
       " rob_binary     0\n",
       " dtype: int64, City           0\n",
       " prop           0\n",
       " pop            0\n",
       " murd           0\n",
       " rob            0\n",
       " violent        0\n",
       " assul          0\n",
       " burg           0\n",
       " theft          0\n",
       " motor          0\n",
       " pop_log        0\n",
       " murd_binary    0\n",
       " rob_binary     0\n",
       " dtype: int64)"
      ]
     },
     "execution_count": 152,
     "metadata": {},
     "output_type": "execute_result"
    }
   ],
   "source": [
    "# Check to see if any missing data \n",
    "df_2013.isnull().sum(), df_2014.isnull().sum()"
   ]
  },
  {
   "cell_type": "code",
   "execution_count": 153,
   "metadata": {
    "collapsed": true
   },
   "outputs": [],
   "source": [
    "# Propertycrime = α + Population + Population2 + Murder + Robbery + etc.\n",
    "cols_2013 = [col for col in df_2013.columns if col not in ['City','prop', 'murd', 'rob', 'pop', 'pop_log', 'violent']]\n",
    "cols_2014 = [col for col in df_2014.columns if col not in ['City','prop', 'murd', 'rob', 'pop', 'pop_log', 'violent']]\n",
    "\n",
    "X_2013 = df_2013.loc[:,cols_2013].copy()\n",
    "X_2014 = df_2014.loc[:,cols_2014].copy()\n",
    "y_2013 = df_2013.loc[:,'prop'].copy() # Property Crime\n",
    "y_2014 = df_2014.loc[:,'prop'].copy() # Property Crime"
   ]
  },
  {
   "cell_type": "code",
   "execution_count": 154,
   "metadata": {
    "collapsed": true
   },
   "outputs": [],
   "source": [
    "# Training data \n",
    "X_train, y_train = X_2013, y_2013 \n",
    "# Test data \n",
    "X_test, y_test = X_2014, y_2014 "
   ]
  },
  {
   "cell_type": "code",
   "execution_count": 155,
   "metadata": {},
   "outputs": [],
   "source": [
    "import pandas as pd  \n",
    "from sklearn.model_selection import train_test_split        \n",
    "\n",
    "# Instantiate and fit our model.\n",
    "regr = linear_model.LinearRegression()\n",
    "Y = y_train\n",
    "X = X_train\n",
    "Y1 = y_test\n",
    "X1 = X_test"
   ]
  },
  {
   "cell_type": "code",
   "execution_count": 156,
   "metadata": {},
   "outputs": [
    {
     "data": {
      "text/plain": [
       "LinearRegression(copy_X=True, fit_intercept=True, n_jobs=1, normalize=False)"
      ]
     },
     "execution_count": 156,
     "metadata": {},
     "output_type": "execute_result"
    }
   ],
   "source": [
    "regr.fit(X, Y)"
   ]
  },
  {
   "cell_type": "code",
   "execution_count": 157,
   "metadata": {},
   "outputs": [
    {
     "name": "stdout",
     "output_type": "stream",
     "text": [
      "\n",
      "Coefficients: \n",
      " [  2.80147375e-15   1.00000000e+00   1.00000000e+00   1.00000000e+00\n",
      "   1.32296755e-14   3.07160899e-13]\n",
      "\n",
      "Intercept: \n",
      " -4.54747350886e-13\n",
      "\n",
      "R-squared:\n",
      "1.0\n"
     ]
    }
   ],
   "source": [
    "# Inspect the results.\n",
    "print('\\nCoefficients: \\n', regr.coef_)\n",
    "print('\\nIntercept: \\n', regr.intercept_)\n",
    "print('\\nR-squared:')\n",
    "print(regr.score(X, Y))"
   ]
  },
  {
   "cell_type": "markdown",
   "metadata": {},
   "source": [
    "<h2> We have overfitting problem and later we will use PCA to reduce the dimensions and try again\n",
    "</h2>"
   ]
  },
  {
   "cell_type": "code",
   "execution_count": 158,
   "metadata": {},
   "outputs": [],
   "source": [
    "# Extract predicted values.\n",
    "predicted = regr.predict(X).ravel()\n",
    "actual = Y"
   ]
  },
  {
   "cell_type": "code",
   "execution_count": 159,
   "metadata": {
    "collapsed": true
   },
   "outputs": [],
   "source": [
    "# Calculate the error, also called the residual.\n",
    "residual = actual - predicted"
   ]
  },
  {
   "cell_type": "code",
   "execution_count": 160,
   "metadata": {},
   "outputs": [
    {
     "data": {
      "image/png": "[encoded data removed]",
      "text/plain": [
       "<matplotlib.figure.Figure at 0x1141a4a8>"
      ]
     },
     "metadata": {},
     "output_type": "display_data"
    }
   ],
   "source": [
    "# This looks a bit concerning.\n",
    "plt.hist(residual)\n",
    "plt.title('Residual counts')\n",
    "plt.xlabel('Residual')\n",
    "plt.ylabel('Count')\n",
    "plt.show()"
   ]
  },
  {
   "cell_type": "code",
   "execution_count": 161,
   "metadata": {},
   "outputs": [],
   "source": [
    "# Prepare for PCA\n",
    "\n",
    "from sklearn.datasets import load_boston\n",
    "from sklearn.decomposition import PCA    # The object responsible for performing PCA\n",
    "import matplotlib.pyplot as plt\n",
    "%matplotlib inline"
   ]
  },
  {
   "cell_type": "code",
   "execution_count": 180,
   "metadata": {},
   "outputs": [
    {
     "data": {
      "text/plain": [
       "array([[ -648.11950324,   -40.90574056],\n",
       "       [ -637.60374292,   -41.36635783],\n",
       "       [ -642.71254829,   -43.09204622],\n",
       "       [ 2678.79469041,   286.81694104],\n",
       "       [ -488.72324122,    -6.24581521]])"
      ]
     },
     "execution_count": 180,
     "metadata": {},
     "output_type": "execute_result"
    }
   ],
   "source": [
    "pca = PCA(n_components=2)    # A two-dimensional representation of the dataset\n",
    "X_pca_train = pca.fit_transform(X)\n",
    "X_pca_train[:5]"
   ]
  },
  {
   "cell_type": "markdown",
   "metadata": {},
   "source": [
    "<h2> Using statsmodels try to modele new reduced feature vectors\n",
    "</h2>"
   ]
  },
  {
   "cell_type": "code",
   "execution_count": 181,
   "metadata": {},
   "outputs": [],
   "source": [
    "import statsmodels.api as sm\n",
    "sm_OLS_test = sm.OLS(Y, X_pca_train ) "
   ]
  },
  {
   "cell_type": "code",
   "execution_count": 182,
   "metadata": {},
   "outputs": [
    {
     "name": "stdout",
     "output_type": "stream",
     "text": [
      "\n",
      " \n",
      "                             OLS Regression Results                            \n",
      "==============================================================================\n",
      "Dep. Variable:                   prop   R-squared:                       0.989\n",
      "Model:                            OLS   Adj. R-squared:                  0.989\n",
      "Method:                 Least Squares   F-statistic:                 1.610e+04\n",
      "Date:                Wed, 25 Apr 2018   Prob (F-statistic):               0.00\n",
      "Time:                        21:21:04   Log-Likelihood:                -2816.9\n",
      "No. Observations:                 348   AIC:                             5638.\n",
      "Df Residuals:                     346   BIC:                             5645.\n",
      "Df Model:                           2                                         \n",
      "Covariance Type:            nonrobust                                         \n",
      "==============================================================================\n",
      "                 coef    std err          t      P>|t|      [0.025      0.975]\n",
      "------------------------------------------------------------------------------\n",
      "x1             1.1523      0.006    179.408      0.000       1.140       1.165\n",
      "x2             1.0086      0.237      4.256      0.000       0.542       1.475\n",
      "==============================================================================\n",
      "Omnibus:                       85.462   Durbin-Watson:                   0.001\n",
      "Prob(Omnibus):                  0.000   Jarque-Bera (JB):             2574.608\n",
      "Skew:                          -0.058   Prob(JB):                         0.00\n",
      "Kurtosis:                      16.325   Cond. No.                         36.9\n",
      "==============================================================================\n",
      "\n",
      "Warnings:\n",
      "[1] Standard Errors assume that the covariance matrix of the errors is correctly specified.\n"
     ]
    }
   ],
   "source": [
    "full_res = sm_OLS_test.fit() \n",
    "print (\"\\n \\n\",full_res.summary()) "
   ]
  },
  {
   "cell_type": "markdown",
   "metadata": {},
   "source": [
    "<h2> Overfitting risk is now reduced and lets try to test the model on 2014 dataset</h2> "
   ]
  },
  {
   "cell_type": "code",
   "execution_count": 183,
   "metadata": {},
   "outputs": [
    {
     "data": {
      "text/plain": [
       "array([[ -572.07309737,   -37.22018504],\n",
       "       [ -536.52108073,   -37.66755633],\n",
       "       [ -580.77730863,   -38.06241368],\n",
       "       [ -565.28101085,   -38.58459858],\n",
       "       [ 2588.4635484 ,   326.25362088]])"
      ]
     },
     "execution_count": 183,
     "metadata": {},
     "output_type": "execute_result"
    }
   ],
   "source": [
    "pca = PCA(n_components=2)    # A two-dimensional representation of the dataset\n",
    "X_pca_test = pca.fit_transform(X1)\n",
    "X_pca_test[:5]"
   ]
  },
  {
   "cell_type": "code",
   "execution_count": 184,
   "metadata": {},
   "outputs": [],
   "source": [
    "predicted2 = full_res.predict(X_pca_test)"
   ]
  },
  {
   "cell_type": "code",
   "execution_count": 185,
   "metadata": {},
   "outputs": [
    {
     "data": {
      "text/plain": [
       "(368,)"
      ]
     },
     "execution_count": 185,
     "metadata": {},
     "output_type": "execute_result"
    }
   ],
   "source": [
    "predicted2.shape"
   ]
  },
  {
   "cell_type": "code",
   "execution_count": 186,
   "metadata": {
    "collapsed": true
   },
   "outputs": [],
   "source": [
    "actual2 = Y1"
   ]
  },
  {
   "cell_type": "code",
   "execution_count": 187,
   "metadata": {},
   "outputs": [
    {
     "data": {
      "text/plain": [
       "(368,)"
      ]
     },
     "execution_count": 187,
     "metadata": {},
     "output_type": "execute_result"
    }
   ],
   "source": [
    "actual2.shape"
   ]
  },
  {
   "cell_type": "code",
   "execution_count": 188,
   "metadata": {},
   "outputs": [],
   "source": [
    "# Calculate the error, also called the residual.\n",
    "residual2 = actual2 - predicted2"
   ]
  },
  {
   "cell_type": "code",
   "execution_count": 179,
   "metadata": {},
   "outputs": [
    {
     "data": {
      "image/png": "[encoded data removed]",
      "text/plain": [
       "<matplotlib.figure.Figure at 0x11321320>"
      ]
     },
     "metadata": {},
     "output_type": "display_data"
    }
   ],
   "source": [
    "# This looks a bit concerning.\n",
    "plt.hist(residual2)\n",
    "plt.title('Residual counts')\n",
    "plt.xlabel('Residual')\n",
    "plt.ylabel('Count')\n",
    "plt.show()"
   ]
  },
  {
   "cell_type": "code",
   "execution_count": null,
   "metadata": {
    "collapsed": true
   },
   "outputs": [],
   "source": []
  }
 ],
 "metadata": {
  "celltoolbar": "Tags",
  "kernelspec": {
   "display_name": "Python 3",
   "language": "python",
   "name": "python3"
  },
  "language_info": {
   "codemirror_mode": {
    "name": "ipython",
    "version": 3
   },
   "file_extension": ".py",
   "mimetype": "text/x-python",
   "name": "python",
   "nbconvert_exporter": "python",
   "pygments_lexer": "ipython3",
   "version": "3.6.3"
  }
 },
 "nbformat": 4,
 "nbformat_minor": 2
}
