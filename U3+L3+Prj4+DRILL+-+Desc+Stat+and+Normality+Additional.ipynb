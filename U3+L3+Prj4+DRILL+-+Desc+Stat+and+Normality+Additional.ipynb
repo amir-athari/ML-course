{
 "cells": [
  {
   "cell_type": "code",
   "execution_count": 1,
   "metadata": {},
   "outputs": [
    {
     "data": {
      "image/png": "[encoded data removed]",
      "text/plain": [
       "<matplotlib.figure.Figure at 0xa989940>"
      ]
     },
     "metadata": {},
     "output_type": "display_data"
    },
    {
     "name": "stdout",
     "output_type": "stream",
     "text": [
      "normal St Dev = 1.120632111100588, normal Mean = 15.0027017062926, normal Median = 15.006620175716725,\n"
     ]
    }
   ],
   "source": [
    "import numpy as np\n",
    "import pandas as pd\n",
    "import matplotlib.pyplot as plt\n",
    "%matplotlib inline\n",
    "\n",
    "# Generate the distribution\n",
    "\n",
    "normal1 = np.random.normal(5, 0.5, 100000)\n",
    "normal2 = np.random.normal(10, 1, 100000)\n",
    "normal3 = normal1 + normal2\n",
    "\n",
    "# Plot a histogram\n",
    "plt.hist(normal3)\n",
    "\n",
    "# Add a vertical line at the mean.\n",
    "plt.axvline(normal3.mean(), color='b', linestyle='solid', linewidth=2)\n",
    "\n",
    "# Add a vertical line at one standard deviation above the mean.\n",
    "plt.axvline(normal3.mean() + normal3.std(), color='b', linestyle='dashed', linewidth=2)\n",
    "\n",
    "#Add a vertical line at one standard deviation below the mean.\n",
    "plt.axvline(normal3.mean() - normal3.std(), color='b', linestyle='dashed', linewidth=2)\n",
    "\n",
    "plt.title('normal3 Distribution')\n",
    "\n",
    "# Print the histogram\n",
    "plt.show()\n",
    "\n",
    "normalStd = np.std(normal3, ddof=1)\n",
    "normalMean = np.mean(normal3)\n",
    "normalMedian = np.median(normal3)\n",
    "print(\"normal St Dev = {},\".format(normalStd), (\"normal Mean = {},\".format(normalMean)),\n",
    "     (\"normal Median = {},\".format(normalMedian)))"
   ]
  },
  {
   "cell_type": "code",
   "execution_count": null,
   "metadata": {
    "collapsed": true
   },
   "outputs": [],
   "source": []
  }
 ],
 "metadata": {
  "kernelspec": {
   "display_name": "Python 3",
   "language": "python",
   "name": "python3"
  },
  "language_info": {
   "codemirror_mode": {
    "name": "ipython",
    "version": 3
   },
   "file_extension": ".py",
   "mimetype": "text/x-python",
   "name": "python",
   "nbconvert_exporter": "python",
   "pygments_lexer": "ipython3",
   "version": "3.6.3"
  }
 },
 "nbformat": 4,
 "nbformat_minor": 2
}
