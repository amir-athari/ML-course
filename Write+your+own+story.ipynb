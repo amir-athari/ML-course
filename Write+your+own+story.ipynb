{
 "cells": [
  {
   "cell_type": "markdown",
   "metadata": {},
   "source": [
    "1. In my daily job I apply advanced analytics to support the oil and gas investment decisions. Also contribute to problem conceptualization; data acquisition, cleansing, manipulation; mathematical modeling and visualization. In my evening job I do research, design, implement, and evaluate machine learning approaches and models on massive amount of public data related to real estate. I will perform ad-hoc exploratory statistics and data mining tasks on unstructured and structured datasets. For all of these I need serous coding, database, hacking, data science, mathematical and statistical skill set.\n",
    "\t\n",
    "2. It is like doing serious gold mining using many digital limbs and sensors. It is part adventure, part disappointment, big promise, vision, new and custom tools, mapping, cleaning, marketing and of course all surrounded with fog of uncertainty. But all worthwhile if you have the personality for it.\n",
    "\n",
    "3. A data scientist is a craftsman who sculptures out meanings by chipping away unnecessary data pieces. \n"
   ]
  }
 ],
 "metadata": {
  "kernelspec": {
   "display_name": "Python 3",
   "language": "python",
   "name": "python3"
  },
  "language_info": {
   "codemirror_mode": {
    "name": "ipython",
    "version": 3
   },
   "file_extension": ".py",
   "mimetype": "text/x-python",
   "name": "python",
   "nbconvert_exporter": "python",
   "pygments_lexer": "ipython3",
   "version": "3.6.3"
  }
 },
 "nbformat": 4,
 "nbformat_minor": 2
}
