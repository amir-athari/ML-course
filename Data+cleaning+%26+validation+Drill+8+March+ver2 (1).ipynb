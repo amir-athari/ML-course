{
 "cells": [
  {
   "cell_type": "markdown",
   "metadata": {},
   "source": [
    "<h2>Unit 1 Lesson 3 - Challenge: Data cleaning & validationChallenge: Data cleaning & validation</h2>"
   ]
  },
  {
   "cell_type": "markdown",
   "metadata": {},
   "source": [
    "<h3> After importing dropped unwanted columns, made all lower case, then removed extra white space. Later built translation table and replaced unwanted characters and signs. Then did some correction of journal titles.\n",
    "A unique value count shows top journals. Finished with basic statistics on open access cost on each of these top five journals.</h3>"
   ]
  },
  {
   "cell_type": "code",
   "execution_count": 255,
   "metadata": {
    "scrolled": false
   },
   "outputs": [
    {
     "data": {
      "text/plain": [
       "<matplotlib.figure.Figure at 0xc6b4c50>"
      ]
     },
     "metadata": {},
     "output_type": "display_data"
    }
   ],
   "source": [
    "import numpy as np\n",
    "import pandas as pd  \n",
    "import matplotlib.pyplot as plt\n",
    "import seaborn as sns\n",
    "%matplotlib inline\n",
    "from matplotlib import pyplot\n",
    "fig=plt.figure()\n",
    "from mpl_toolkits.axes_grid1.inset_locator import inset_axes\n",
    "from scipy.stats import ttest_ind\n",
    "from scipy import stats\n",
    "import codecs\n",
    "import datetime\n",
    "\n",
    "# Read all data from source\n",
    "df = pd.DataFrame()\n",
    "df = pd.read_csv(\"C:/Users/aath/Dropbox/MAEN/Thankful/Data/Welcome Trust Article/WELLCOME_APCspend2013_forThinkful.csv\",\n",
    "                 index_col=False, encoding='iso-8859-1', nrows=238472, error_bad_lines=False)\n",
    "df = df.drop(df.columns[[0, 1]], axis=1) "
   ]
  },
  {
   "cell_type": "code",
   "execution_count": 256,
   "metadata": {},
   "outputs": [],
   "source": [
    "df['Journal_title'] = df['Journal_title'].str.strip()\n",
    "df['Journal_title'] = df['Journal_title'].str.replace('.', '')\n",
    "df['Journal_title'] = df.apply(lambda x: x.str.lower())\n",
    "df['Journal_title'] = df['Journal_title'].str.replace('plosone', 'plos one')\n",
    "df['Journal_title'] = df['Journal_title'].str.replace('plos1', 'plos one')\n",
    "#df.poem = df.poem.apply(lambda x: x.translate(None, string.punctuation))\n",
    "df['Journal_title'] = df['Journal_title'].str.replace('j med chem', 'journal of medical chemistry')"
   ]
  },
  {
   "cell_type": "code",
   "execution_count": 257,
   "metadata": {},
   "outputs": [],
   "source": [
    "df['Journal_title'] = df['Journal_title'].str.translate(str.maketrans(\"\", \"\", \",.-'\\\"():;+/?&$°@\"))\n",
    "df['Journal_title'] = df['Journal_title'].str.strip()"
   ]
  },
  {
   "cell_type": "code",
   "execution_count": 258,
   "metadata": {},
   "outputs": [
    {
     "data": {
      "text/plain": [
       "plos one                           199\n",
       "journal of biological chemistry     53\n",
       "neuroimage                          29\n",
       "nucleic acids research              26\n",
       "plos pathogens                      24\n",
       "Name: Journal_title, dtype: int64"
      ]
     },
     "execution_count": 258,
     "metadata": {},
     "output_type": "execute_result"
    }
   ],
   "source": [
    "pd.value_counts(df['Journal_title']).head(5)"
   ]
  },
  {
   "cell_type": "code",
   "execution_count": null,
   "metadata": {
    "scrolled": false
   },
   "outputs": [],
   "source": [
    "print(df.to_string())"
   ]
  },
  {
   "cell_type": "code",
   "execution_count": 260,
   "metadata": {
    "collapsed": true
   },
   "outputs": [],
   "source": [
    "df[\"result\"] = \"\"\n",
    "lookup = ['plos one', 'journal of biological chemistry', 'neuroimage', 'nucleic acids research', 'plos genetics']\n",
    "df.loc[df['Journal_title'].isin(lookup),'result'] = 1\n",
    "df.loc[~df['Journal_title'].isin(lookup),'result'] = 0"
   ]
  },
  {
   "cell_type": "code",
   "execution_count": 261,
   "metadata": {
    "scrolled": true
   },
   "outputs": [],
   "source": [
    "df['COST'] = df['COST'].str.strip()\n",
    "df['COST'] = df['COST'].str.translate(str.maketrans(\"\", \"\", \"£\"))\n",
    "df['result'] = df['result'].astype(str).astype(int)\n",
    "df = df.drop(df[df.result == 0].index)\n",
    "df = df.drop(df[df.COST == '999999.00'].index)"
   ]
  },
  {
   "cell_type": "code",
   "execution_count": 262,
   "metadata": {
    "collapsed": true
   },
   "outputs": [],
   "source": [
    "df3['COST'] = df3['COST'].astype(str).astype(float)"
   ]
  },
  {
   "cell_type": "code",
   "execution_count": 263,
   "metadata": {
    "collapsed": true
   },
   "outputs": [],
   "source": [
    "df1, df2 = [x for _, x in df.groupby(df['Journal_title'] =='plos one' )]\n",
    "df1, df3 = [x for _, x in df.groupby(df['Journal_title'] =='journal of biological chemistry' )]\n",
    "df1, df4 = [x for _, x in df.groupby(df['Journal_title'] =='neuroimage' )]\n",
    "df1, df5 = [x for _, x in df.groupby(df['Journal_title'] =='nucleic acids research' )]\n",
    "df1, df6 = [x for _, x in df.groupby(df['Journal_title'] =='plos genetics' )]"
   ]
  },
  {
   "cell_type": "code",
   "execution_count": 264,
   "metadata": {
    "scrolled": true
   },
   "outputs": [
    {
     "data": {
      "text/plain": [
       "Journal_title    object\n",
       "Article_title    object\n",
       "COST             object\n",
       "result            int32\n",
       "dtype: object"
      ]
     },
     "execution_count": 264,
     "metadata": {},
     "output_type": "execute_result"
    }
   ],
   "source": [
    "df.dtypes"
   ]
  },
  {
   "cell_type": "code",
   "execution_count": 265,
   "metadata": {},
   "outputs": [
    {
     "name": "stdout",
     "output_type": "stream",
     "text": [
      "<class 'pandas.core.indexes.numeric.Int64Index'>\n",
      "<class 'pandas.core.indexes.base.Index'>\n",
      "<class 'numpy.ndarray'>\n"
     ]
    }
   ],
   "source": [
    "index = df.index\n",
    "columns = df.columns\n",
    "values = df.values\n",
    "print(type(index))\n",
    "print(type(columns))\n",
    "print(type(values))"
   ]
  },
  {
   "cell_type": "code",
   "execution_count": 266,
   "metadata": {
    "scrolled": true
   },
   "outputs": [
    {
     "data": {
      "text/plain": [
       "Journal_title    object\n",
       "Article_title    object\n",
       "COST             object\n",
       "result            int32\n",
       "dtype: object"
      ]
     },
     "execution_count": 266,
     "metadata": {},
     "output_type": "execute_result"
    }
   ],
   "source": [
    "df3.dtypes"
   ]
  },
  {
   "cell_type": "code",
   "execution_count": 267,
   "metadata": {},
   "outputs": [],
   "source": [
    "df2['COST'] = df2['COST'].str.replace(' ', '')\n",
    "df3['COST'] = df3['COST'].str.replace(' ', '')\n",
    "df4['COST'] = df4['COST'].str.replace(' ', '')\n",
    "df5['COST'] = df5['COST'].str.replace(' ', '')\n",
    "df6['COST'] = df6['COST'].str.replace(' ', '')"
   ]
  },
  {
   "cell_type": "code",
   "execution_count": 268,
   "metadata": {},
   "outputs": [],
   "source": [
    "df2['COST'] = df2['COST'].astype(str).astype(float)\n",
    "df3['COST'] = df3['COST'].astype(str).astype(float)\n",
    "df4['COST'] = df4['COST'].astype(str).astype(float)\n",
    "df5['COST'] = df5['COST'].astype(str).astype(float)\n",
    "df6['COST'] = df6['COST'].astype(str).astype(float)"
   ]
  },
  {
   "cell_type": "code",
   "execution_count": 269,
   "metadata": {},
   "outputs": [
    {
     "name": "stdout",
     "output_type": "stream",
     "text": [
      "mean for plos one 1935 \n",
      "mean for journal of biological chemistry 1423 \n",
      "mean for neuroimage 2215 \n",
      "mean for nucleic acids research 1149 \n",
      "mean for plos genetics 1149 \n"
     ]
    }
   ],
   "source": [
    "print('mean for plos one %d ' % df2['COST'].mean())\n",
    "print('mean for journal of biological chemistry %d ' % df3['COST'].mean())\n",
    "print('mean for neuroimage %d ' % df4['COST'].mean())\n",
    "print('mean for nucleic acids research %d ' % df5['COST'].mean())\n",
    "print('mean for plos genetics %d ' % df5['COST'].mean())"
   ]
  },
  {
   "cell_type": "code",
   "execution_count": 270,
   "metadata": {},
   "outputs": [
    {
     "name": "stdout",
     "output_type": "stream",
     "text": [
      "median for plos one 894 \n",
      "median for journal of biological chemistry 1301 \n",
      "median for neuroimage 2326 \n",
      "median for nucleic acids research 852 \n",
      "median for plos genetics 852 \n"
     ]
    }
   ],
   "source": [
    "print('median for plos one %d ' % df2['COST'].median())\n",
    "print('median for journal of biological chemistry %d ' % df3['COST'].median())\n",
    "print('median for neuroimage %d ' % df4['COST'].median())\n",
    "print('median for nucleic acids research %d ' % df5['COST'].median())\n",
    "print('median for plos genetics %d ' % df5['COST'].median())"
   ]
  },
  {
   "cell_type": "code",
   "execution_count": 271,
   "metadata": {},
   "outputs": [
    {
     "name": "stdout",
     "output_type": "stream",
     "text": [
      "std for plos one 13873 \n",
      "std for journal of biological chemistry 411 \n",
      "std for neuroimage 266 \n",
      "std for nucleic acids research 442 \n",
      "std for plos genetics 442 \n"
     ]
    }
   ],
   "source": [
    "print('std for plos one %d ' % df2['COST'].std())\n",
    "print('std for journal of biological chemistry %d ' % df3['COST'].std())\n",
    "print('std for neuroimage %d ' % df4['COST'].std())\n",
    "print('std for nucleic acids research %d ' % df5['COST'].std())\n",
    "print('std for plos genetics %d ' % df5['COST'].std())"
   ]
  },
  {
   "cell_type": "code",
   "execution_count": null,
   "metadata": {
    "collapsed": true
   },
   "outputs": [],
   "source": []
  }
 ],
 "metadata": {
  "kernelspec": {
   "display_name": "Python 3",
   "language": "python",
   "name": "python3"
  },
  "language_info": {
   "codemirror_mode": {
    "name": "ipython",
    "version": 3
   },
   "file_extension": ".py",
   "mimetype": "text/x-python",
   "name": "python",
   "nbconvert_exporter": "python",
   "pygments_lexer": "ipython3",
   "version": "3.6.3"
  }
 },
 "nbformat": 4,
 "nbformat_minor": 2
}
