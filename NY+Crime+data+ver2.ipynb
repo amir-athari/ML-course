{
 "cells": [
  {
   "cell_type": "markdown",
   "metadata": {},
   "source": [
    "<h2> Building a maultivariable regressor using crime data in New York State in 2013, provided by the FBI </h2> "
   ]
  },
  {
   "cell_type": "markdown",
   "metadata": {},
   "source": [
    "- 348 **observations**\n",
    "- 12 **features** (City, Population, Violent crime, Murder and man slaughter, Rape, Robbery, Aggravated assault, Property, \n",
    "Burglary, Larceny-theft, Motor, Arson)\n",
    "- **Response** variable is the number of Property Crime\n",
    "- **Classification** problem since response is categorical\n",
    "- More information: https://ucr.fbi.gov/crime-in-the-u.s/2013/crime-in-the-u.s.-2013/tables/table-8/table-8-state-cuts/table_8_offenses_known_to_law_enforcement_new_york_by_city_2013.xls"
   ]
  },
  {
   "cell_type": "code",
   "execution_count": 2,
   "metadata": {
    "collapsed": true
   },
   "outputs": [],
   "source": [
    "%matplotlib inline\n",
    "import numpy as np\n",
    "import pandas as pd\n",
    "import matplotlib.pyplot as plt\n",
    "import seaborn as sns\n",
    "from sklearn import linear_model \n",
    "import sklearn.metrics as sm \n",
    "from sklearn.preprocessing import PolynomialFeatures "
   ]
  },
  {
   "cell_type": "markdown",
   "metadata": {},
   "source": [
    "## Preparing and reviewing the dataset"
   ]
  },
  {
   "cell_type": "code",
   "execution_count": 3,
   "metadata": {
    "collapsed": true
   },
   "outputs": [],
   "source": [
    "# Grab and process the raw data.\n",
    "path1 = (\"C:/Users/aath/Dropbox/MAEN/Thankful/Data/NY Crime/NY_crime.csv\")\n",
    "#image_path1 = (\"C:/Users/aath/Dropbox/MAEN/Thankful/Library/Images/1280px-LowSensitivity_HighSpecificity_1400x1050.png\")\n",
    "df = pd.read_csv(path1)"
   ]
  },
  {
   "cell_type": "code",
   "execution_count": 4,
   "metadata": {},
   "outputs": [
    {
     "data": {
      "text/html": [
       "<div>\n",
       "<style>\n",
       "    .dataframe thead tr:only-child th {\n",
       "        text-align: right;\n",
       "    }\n",
       "\n",
       "    .dataframe thead th {\n",
       "        text-align: left;\n",
       "    }\n",
       "\n",
       "    .dataframe tbody tr th {\n",
       "        vertical-align: top;\n",
       "    }\n",
       "</style>\n",
       "<table border=\"1\" class=\"dataframe\">\n",
       "  <thead>\n",
       "    <tr style=\"text-align: right;\">\n",
       "      <th></th>\n",
       "      <th>City</th>\n",
       "      <th>Population</th>\n",
       "      <th>Violent\n",
       "crime</th>\n",
       "      <th>Murder and\n",
       "nonnegligent\n",
       "manslaughter</th>\n",
       "      <th>Rape\n",
       "(revised\n",
       "definition)1</th>\n",
       "      <th>Rape\n",
       "(legacy\n",
       "definition)2</th>\n",
       "      <th>Robbery</th>\n",
       "      <th>Aggravated\n",
       "assault</th>\n",
       "      <th>Property\n",
       "crime</th>\n",
       "      <th>Burglary</th>\n",
       "      <th>Larceny-\n",
       "theft</th>\n",
       "      <th>Motor\n",
       "vehicle\n",
       "theft</th>\n",
       "      <th>Arson3</th>\n",
       "    </tr>\n",
       "  </thead>\n",
       "  <tbody>\n",
       "    <tr>\n",
       "      <th>0</th>\n",
       "      <td>Adams Village</td>\n",
       "      <td>1,861</td>\n",
       "      <td>0</td>\n",
       "      <td>0</td>\n",
       "      <td>NaN</td>\n",
       "      <td>0</td>\n",
       "      <td>0</td>\n",
       "      <td>0</td>\n",
       "      <td>12</td>\n",
       "      <td>2</td>\n",
       "      <td>10</td>\n",
       "      <td>0</td>\n",
       "      <td>0.0</td>\n",
       "    </tr>\n",
       "    <tr>\n",
       "      <th>1</th>\n",
       "      <td>Addison Town and Village</td>\n",
       "      <td>2,577</td>\n",
       "      <td>3</td>\n",
       "      <td>0</td>\n",
       "      <td>NaN</td>\n",
       "      <td>0</td>\n",
       "      <td>0</td>\n",
       "      <td>3</td>\n",
       "      <td>24</td>\n",
       "      <td>3</td>\n",
       "      <td>20</td>\n",
       "      <td>1</td>\n",
       "      <td>0.0</td>\n",
       "    </tr>\n",
       "    <tr>\n",
       "      <th>2</th>\n",
       "      <td>Akron Village</td>\n",
       "      <td>2,846</td>\n",
       "      <td>3</td>\n",
       "      <td>0</td>\n",
       "      <td>NaN</td>\n",
       "      <td>0</td>\n",
       "      <td>0</td>\n",
       "      <td>3</td>\n",
       "      <td>16</td>\n",
       "      <td>1</td>\n",
       "      <td>15</td>\n",
       "      <td>0</td>\n",
       "      <td>0.0</td>\n",
       "    </tr>\n",
       "    <tr>\n",
       "      <th>3</th>\n",
       "      <td>Albany</td>\n",
       "      <td>97,956</td>\n",
       "      <td>791</td>\n",
       "      <td>8</td>\n",
       "      <td>NaN</td>\n",
       "      <td>30</td>\n",
       "      <td>227</td>\n",
       "      <td>526</td>\n",
       "      <td>4,090</td>\n",
       "      <td>705</td>\n",
       "      <td>3,243</td>\n",
       "      <td>142</td>\n",
       "      <td>NaN</td>\n",
       "    </tr>\n",
       "    <tr>\n",
       "      <th>4</th>\n",
       "      <td>Albion Village</td>\n",
       "      <td>6,388</td>\n",
       "      <td>23</td>\n",
       "      <td>0</td>\n",
       "      <td>NaN</td>\n",
       "      <td>3</td>\n",
       "      <td>4</td>\n",
       "      <td>16</td>\n",
       "      <td>223</td>\n",
       "      <td>53</td>\n",
       "      <td>165</td>\n",
       "      <td>5</td>\n",
       "      <td>NaN</td>\n",
       "    </tr>\n",
       "  </tbody>\n",
       "</table>\n",
       "</div>"
      ],
      "text/plain": [
       "                       City Population Violent\\ncrime  \\\n",
       "0             Adams Village      1,861              0   \n",
       "1  Addison Town and Village      2,577              3   \n",
       "2             Akron Village      2,846              3   \n",
       "3                    Albany     97,956            791   \n",
       "4            Albion Village      6,388             23   \n",
       "\n",
       "   Murder and\\nnonnegligent\\nmanslaughter  Rape\\n(revised\\ndefinition)1  \\\n",
       "0                                       0                           NaN   \n",
       "1                                       0                           NaN   \n",
       "2                                       0                           NaN   \n",
       "3                                       8                           NaN   \n",
       "4                                       0                           NaN   \n",
       "\n",
       "  Rape\\n(legacy\\ndefinition)2 Robbery Aggravated\\nassault Property\\ncrime  \\\n",
       "0                           0       0                   0              12   \n",
       "1                           0       0                   3              24   \n",
       "2                           0       0                   3              16   \n",
       "3                          30     227                 526           4,090   \n",
       "4                           3       4                  16             223   \n",
       "\n",
       "  Burglary Larceny-\\ntheft Motor\\nvehicle\\ntheft  Arson3  \n",
       "0        2              10                     0     0.0  \n",
       "1        3              20                     1     0.0  \n",
       "2        1              15                     0     0.0  \n",
       "3      705           3,243                   142     NaN  \n",
       "4       53             165                     5     NaN  "
      ]
     },
     "execution_count": 4,
     "metadata": {},
     "output_type": "execute_result"
    }
   ],
   "source": [
    "# Get an overview of data\n",
    "df.head()"
   ]
  },
  {
   "cell_type": "code",
   "execution_count": 5,
   "metadata": {},
   "outputs": [
    {
     "data": {
      "text/plain": [
       "City                                       object\n",
       "Population                                 object\n",
       "Violent\\ncrime                             object\n",
       "Murder and\\nnonnegligent\\nmanslaughter      int64\n",
       "Rape\\n(revised\\ndefinition)1              float64\n",
       "Rape\\n(legacy\\ndefinition)2                object\n",
       "Robbery                                    object\n",
       "Aggravated\\nassault                        object\n",
       "Property\\ncrime                            object\n",
       "Burglary                                   object\n",
       "Larceny-\\ntheft                            object\n",
       "Motor\\nvehicle\\ntheft                      object\n",
       "Arson3                                    float64\n",
       "dtype: object"
      ]
     },
     "execution_count": 5,
     "metadata": {},
     "output_type": "execute_result"
    }
   ],
   "source": [
    "df.dtypes"
   ]
  },
  {
   "cell_type": "code",
   "execution_count": 6,
   "metadata": {
    "collapsed": true
   },
   "outputs": [],
   "source": [
    "# Clean and copy into new dataframe\n",
    "dfa = df\n",
    "dfa = dfa.rename(columns={'Population': 'pop', 'Murder and\\nnonnegligent\\nmanslaughter': 'murd'})\n",
    "dfa = dfa.rename(columns={'Robbery': 'rob', 'Rape\\n(revised\\ndefinition)1': 'rape1'})\n",
    "dfa = dfa.rename(columns={'Violent\\ncrime': 'violent', 'Rape\\n(legacy\\ndefinition)2': 'rape2'})\n",
    "dfa = dfa.rename(columns={'Property\\ncrime': 'prop', 'Aggravated\\nassault':'assault'})\n",
    "dfa = dfa.rename(columns={'Burglary': 'burg', 'Larceny-\\ntheft':'theft'})\n",
    "dfa = dfa.rename(columns={'Motor\\nvehicle\\ntheft': 'motor', 'Arson3':'arson'})\n",
    "\n",
    "df1 = dfa.loc[:,['City', 'prop','pop','murd','rob','rape1','rape2','assault', 'burg', 'theft', 'motor', 'arson']].copy()"
   ]
  },
  {
   "cell_type": "code",
   "execution_count": 7,
   "metadata": {},
   "outputs": [
    {
     "data": {
      "text/plain": [
       "City        object\n",
       "prop        object\n",
       "pop         object\n",
       "murd         int64\n",
       "rob         object\n",
       "rape1      float64\n",
       "rape2       object\n",
       "assault     object\n",
       "burg        object\n",
       "theft       object\n",
       "motor       object\n",
       "arson      float64\n",
       "dtype: object"
      ]
     },
     "execution_count": 7,
     "metadata": {},
     "output_type": "execute_result"
    }
   ],
   "source": [
    "df1.dtypes"
   ]
  },
  {
   "cell_type": "code",
   "execution_count": 8,
   "metadata": {},
   "outputs": [
    {
     "data": {
      "text/plain": [
       "(348, 12)"
      ]
     },
     "execution_count": 8,
     "metadata": {},
     "output_type": "execute_result"
    }
   ],
   "source": [
    "df1.shape[0], df1.shape[1] # Count of rows and dimensions of dataframe"
   ]
  },
  {
   "cell_type": "code",
   "execution_count": 9,
   "metadata": {},
   "outputs": [
    {
     "data": {
      "text/plain": [
       "City         0\n",
       "prop         0\n",
       "pop          0\n",
       "murd         0\n",
       "rob          0\n",
       "rape1      348\n",
       "rape2        0\n",
       "assault      0\n",
       "burg         0\n",
       "theft        0\n",
       "motor        0\n",
       "arson      161\n",
       "dtype: int64"
      ]
     },
     "execution_count": 9,
     "metadata": {},
     "output_type": "execute_result"
    }
   ],
   "source": [
    "# Check to see if any missing data \n",
    "df1.isnull().sum()"
   ]
  },
  {
   "cell_type": "code",
   "execution_count": 10,
   "metadata": {
    "collapsed": true
   },
   "outputs": [],
   "source": [
    "df1 = df1.drop('rape1', 1) # we can drop rape1 as it has alomost no data in it"
   ]
  },
  {
   "cell_type": "code",
   "execution_count": 11,
   "metadata": {},
   "outputs": [
    {
     "data": {
      "text/plain": [
       "City        object\n",
       "prop        object\n",
       "pop         object\n",
       "murd         int64\n",
       "rob         object\n",
       "rape2       object\n",
       "assault     object\n",
       "burg        object\n",
       "theft       object\n",
       "motor       object\n",
       "arson      float64\n",
       "dtype: object"
      ]
     },
     "execution_count": 11,
     "metadata": {},
     "output_type": "execute_result"
    }
   ],
   "source": [
    "df1.dtypes"
   ]
  },
  {
   "cell_type": "code",
   "execution_count": 12,
   "metadata": {
    "collapsed": true
   },
   "outputs": [],
   "source": [
    "# Change the data type\n",
    "df1['prop'] = df1['prop'].str.replace(',','').astype(int)\n",
    "df1['pop'] = df1['pop'].str.replace(',','').astype(int)\n",
    "df1['rob'] = df1['rob'].str.replace(',','').astype(int)\n",
    "df1['rape2'] = df1['rape2'].str.replace(',','').astype(int)\n",
    "df1['assault'] = df1['assault'].str.replace(',','').astype(int)\n",
    "df1['burg'] = df1['burg'].str.replace(',','').astype(int)\n",
    "df1['theft'] = df1['theft'].str.replace(',','').astype(int)"
   ]
  },
  {
   "cell_type": "code",
   "execution_count": 13,
   "metadata": {
    "collapsed": true
   },
   "outputs": [],
   "source": [
    "# Make a funtion chaning continous value to categorial values\n",
    "# Function for robbery\n",
    "\n",
    "def rob_dum (row):\n",
    "   if row['rob'] >= 1 :\n",
    "      return 1\n",
    "   return 0\n",
    "\n",
    "df1['rob_cat']=df1.apply (lambda row: rob_dum (row),axis=1)\n",
    "\n",
    "\n",
    "# Function for murder\n",
    "def mur_dum (row):\n",
    "   if row['rob'] >= 1 :\n",
    "      return 1\n",
    "   return 0\n",
    "\n",
    "df1['mur_cat']=df1.apply (lambda row: mur_dum (row),axis=1)\n",
    "\n",
    "\n",
    "df1['pop_2']=df1.apply (lambda row: row['pop']**2 ,axis=1)\n",
    "\n",
    "# Transform population with log1o to elimaite magnitute effect from big cities like NY city\n",
    "df1['pop_log10']= np.log10(df1['pop'] + 1)\n"
   ]
  },
  {
   "cell_type": "code",
   "execution_count": 14,
   "metadata": {},
   "outputs": [
    {
     "data": {
      "text/html": [
       "<div>\n",
       "<style>\n",
       "    .dataframe thead tr:only-child th {\n",
       "        text-align: right;\n",
       "    }\n",
       "\n",
       "    .dataframe thead th {\n",
       "        text-align: left;\n",
       "    }\n",
       "\n",
       "    .dataframe tbody tr th {\n",
       "        vertical-align: top;\n",
       "    }\n",
       "</style>\n",
       "<table border=\"1\" class=\"dataframe\">\n",
       "  <thead>\n",
       "    <tr style=\"text-align: right;\">\n",
       "      <th></th>\n",
       "      <th>City</th>\n",
       "      <th>prop</th>\n",
       "      <th>pop</th>\n",
       "      <th>murd</th>\n",
       "      <th>rob</th>\n",
       "      <th>rape2</th>\n",
       "      <th>assault</th>\n",
       "      <th>burg</th>\n",
       "      <th>theft</th>\n",
       "      <th>motor</th>\n",
       "      <th>arson</th>\n",
       "      <th>rob_cat</th>\n",
       "      <th>mur_cat</th>\n",
       "      <th>pop_2</th>\n",
       "      <th>pop_log10</th>\n",
       "    </tr>\n",
       "  </thead>\n",
       "  <tbody>\n",
       "    <tr>\n",
       "      <th>0</th>\n",
       "      <td>Adams Village</td>\n",
       "      <td>12</td>\n",
       "      <td>1861</td>\n",
       "      <td>0</td>\n",
       "      <td>0</td>\n",
       "      <td>0</td>\n",
       "      <td>0</td>\n",
       "      <td>2</td>\n",
       "      <td>10</td>\n",
       "      <td>0</td>\n",
       "      <td>0.0</td>\n",
       "      <td>0</td>\n",
       "      <td>0</td>\n",
       "      <td>3463321</td>\n",
       "      <td>3.269980</td>\n",
       "    </tr>\n",
       "    <tr>\n",
       "      <th>1</th>\n",
       "      <td>Addison Town and Village</td>\n",
       "      <td>24</td>\n",
       "      <td>2577</td>\n",
       "      <td>0</td>\n",
       "      <td>0</td>\n",
       "      <td>0</td>\n",
       "      <td>3</td>\n",
       "      <td>3</td>\n",
       "      <td>20</td>\n",
       "      <td>1</td>\n",
       "      <td>0.0</td>\n",
       "      <td>0</td>\n",
       "      <td>0</td>\n",
       "      <td>6640929</td>\n",
       "      <td>3.411283</td>\n",
       "    </tr>\n",
       "    <tr>\n",
       "      <th>2</th>\n",
       "      <td>Akron Village</td>\n",
       "      <td>16</td>\n",
       "      <td>2846</td>\n",
       "      <td>0</td>\n",
       "      <td>0</td>\n",
       "      <td>0</td>\n",
       "      <td>3</td>\n",
       "      <td>1</td>\n",
       "      <td>15</td>\n",
       "      <td>0</td>\n",
       "      <td>0.0</td>\n",
       "      <td>0</td>\n",
       "      <td>0</td>\n",
       "      <td>8099716</td>\n",
       "      <td>3.454387</td>\n",
       "    </tr>\n",
       "    <tr>\n",
       "      <th>3</th>\n",
       "      <td>Albany</td>\n",
       "      <td>4090</td>\n",
       "      <td>97956</td>\n",
       "      <td>8</td>\n",
       "      <td>227</td>\n",
       "      <td>30</td>\n",
       "      <td>526</td>\n",
       "      <td>705</td>\n",
       "      <td>3243</td>\n",
       "      <td>142</td>\n",
       "      <td>NaN</td>\n",
       "      <td>1</td>\n",
       "      <td>1</td>\n",
       "      <td>9595377936</td>\n",
       "      <td>4.991035</td>\n",
       "    </tr>\n",
       "    <tr>\n",
       "      <th>4</th>\n",
       "      <td>Albion Village</td>\n",
       "      <td>223</td>\n",
       "      <td>6388</td>\n",
       "      <td>0</td>\n",
       "      <td>4</td>\n",
       "      <td>3</td>\n",
       "      <td>16</td>\n",
       "      <td>53</td>\n",
       "      <td>165</td>\n",
       "      <td>5</td>\n",
       "      <td>NaN</td>\n",
       "      <td>1</td>\n",
       "      <td>1</td>\n",
       "      <td>40806544</td>\n",
       "      <td>3.805433</td>\n",
       "    </tr>\n",
       "  </tbody>\n",
       "</table>\n",
       "</div>"
      ],
      "text/plain": [
       "                       City  prop    pop  murd  rob  rape2  assault  burg  \\\n",
       "0             Adams Village    12   1861     0    0      0        0     2   \n",
       "1  Addison Town and Village    24   2577     0    0      0        3     3   \n",
       "2             Akron Village    16   2846     0    0      0        3     1   \n",
       "3                    Albany  4090  97956     8  227     30      526   705   \n",
       "4            Albion Village   223   6388     0    4      3       16    53   \n",
       "\n",
       "   theft motor  arson  rob_cat  mur_cat       pop_2  pop_log10  \n",
       "0     10     0    0.0        0        0     3463321   3.269980  \n",
       "1     20     1    0.0        0        0     6640929   3.411283  \n",
       "2     15     0    0.0        0        0     8099716   3.454387  \n",
       "3   3243   142    NaN        1        1  9595377936   4.991035  \n",
       "4    165     5    NaN        1        1    40806544   3.805433  "
      ]
     },
     "execution_count": 14,
     "metadata": {},
     "output_type": "execute_result"
    }
   ],
   "source": [
    "df1.head()\n"
   ]
  },
  {
   "cell_type": "code",
   "execution_count": 15,
   "metadata": {},
   "outputs": [
    {
     "data": {
      "text/plain": [
       "<matplotlib.axes._subplots.AxesSubplot at 0xcd7c0b8>"
      ]
     },
     "execution_count": 15,
     "metadata": {},
     "output_type": "execute_result"
    },
    {
     "data": {
      "image/png": "[encoded data removed]",
      "text/plain": [
       "<matplotlib.figure.Figure at 0xcd9d400>"
      ]
     },
     "metadata": {},
     "output_type": "display_data"
    }
   ],
   "source": [
    "# Below correlation matrix show that we have many linear relationship pairwise\n",
    "# However we s.heatmap(df1.corr())\n",
    "sns.heatmap(df1.corr())"
   ]
  },
  {
   "cell_type": "code",
   "execution_count": 16,
   "metadata": {
    "scrolled": false
   },
   "outputs": [
    {
     "data": {
      "text/plain": [
       "<seaborn.axisgrid.PairGrid at 0xd2bc2b0>"
      ]
     },
     "execution_count": 16,
     "metadata": {},
     "output_type": "execute_result"
    },
    {
     "data": {
      "image/png": "[encoded data removed]",
      "text/plain": [
       "<matplotlib.figure.Figure at 0xd2c2b38>"
      ]
     },
     "metadata": {},
     "output_type": "display_data"
    }
   ],
   "source": [
    "# visualize the relationship between the features and the response using scatterplots\n",
    "sns.pairplot(df1, x_vars=['pop','murd', 'pop_log10'], y_vars='prop', size=7, aspect=0.7, kind='reg')"
   ]
  },
  {
   "cell_type": "markdown",
   "metadata": {},
   "source": [
    "- We can see at least one outlier that is distorting the whole model. And the log10 of the Population which is a transformation of this feature confirmst that. Next we drop all observations related to this and rerun the correlation matric"
   ]
  },
  {
   "cell_type": "code",
   "execution_count": 17,
   "metadata": {},
   "outputs": [
    {
     "data": {
      "text/html": [
       "<div>\n",
       "<style>\n",
       "    .dataframe thead tr:only-child th {\n",
       "        text-align: right;\n",
       "    }\n",
       "\n",
       "    .dataframe thead th {\n",
       "        text-align: left;\n",
       "    }\n",
       "\n",
       "    .dataframe tbody tr th {\n",
       "        vertical-align: top;\n",
       "    }\n",
       "</style>\n",
       "<table border=\"1\" class=\"dataframe\">\n",
       "  <thead>\n",
       "    <tr style=\"text-align: right;\">\n",
       "      <th></th>\n",
       "      <th>City</th>\n",
       "      <th>prop</th>\n",
       "      <th>pop</th>\n",
       "      <th>murd</th>\n",
       "      <th>rob</th>\n",
       "      <th>rape2</th>\n",
       "      <th>assault</th>\n",
       "      <th>burg</th>\n",
       "      <th>theft</th>\n",
       "      <th>motor</th>\n",
       "      <th>arson</th>\n",
       "      <th>rob_cat</th>\n",
       "      <th>mur_cat</th>\n",
       "      <th>pop_2</th>\n",
       "      <th>pop_log10</th>\n",
       "    </tr>\n",
       "  </thead>\n",
       "  <tbody>\n",
       "    <tr>\n",
       "      <th>216</th>\n",
       "      <td>New York</td>\n",
       "      <td>141971</td>\n",
       "      <td>8396126</td>\n",
       "      <td>335</td>\n",
       "      <td>19170</td>\n",
       "      <td>1112</td>\n",
       "      <td>31767</td>\n",
       "      <td>16606</td>\n",
       "      <td>117931</td>\n",
       "      <td>7,434</td>\n",
       "      <td>NaN</td>\n",
       "      <td>1</td>\n",
       "      <td>1</td>\n",
       "      <td>70494931807876</td>\n",
       "      <td>6.924079</td>\n",
       "    </tr>\n",
       "    <tr>\n",
       "      <th>35</th>\n",
       "      <td>Buffalo</td>\n",
       "      <td>12491</td>\n",
       "      <td>258789</td>\n",
       "      <td>47</td>\n",
       "      <td>1322</td>\n",
       "      <td>145</td>\n",
       "      <td>1735</td>\n",
       "      <td>3458</td>\n",
       "      <td>8076</td>\n",
       "      <td>957</td>\n",
       "      <td>NaN</td>\n",
       "      <td>1</td>\n",
       "      <td>1</td>\n",
       "      <td>66971746521</td>\n",
       "      <td>5.412947</td>\n",
       "    </tr>\n",
       "    <tr>\n",
       "      <th>272</th>\n",
       "      <td>Rochester</td>\n",
       "      <td>10051</td>\n",
       "      <td>210562</td>\n",
       "      <td>42</td>\n",
       "      <td>918</td>\n",
       "      <td>92</td>\n",
       "      <td>1055</td>\n",
       "      <td>2587</td>\n",
       "      <td>6855</td>\n",
       "      <td>609</td>\n",
       "      <td>132.0</td>\n",
       "      <td>1</td>\n",
       "      <td>1</td>\n",
       "      <td>44336355844</td>\n",
       "      <td>5.323382</td>\n",
       "    </tr>\n",
       "    <tr>\n",
       "      <th>346</th>\n",
       "      <td>Yonkers</td>\n",
       "      <td>2368</td>\n",
       "      <td>199134</td>\n",
       "      <td>6</td>\n",
       "      <td>390</td>\n",
       "      <td>25</td>\n",
       "      <td>615</td>\n",
       "      <td>470</td>\n",
       "      <td>1662</td>\n",
       "      <td>236</td>\n",
       "      <td>10.0</td>\n",
       "      <td>1</td>\n",
       "      <td>1</td>\n",
       "      <td>39654349956</td>\n",
       "      <td>5.299148</td>\n",
       "    </tr>\n",
       "  </tbody>\n",
       "</table>\n",
       "</div>"
      ],
      "text/plain": [
       "          City    prop      pop  murd    rob  rape2  assault   burg   theft  \\\n",
       "216   New York  141971  8396126   335  19170   1112    31767  16606  117931   \n",
       "35     Buffalo   12491   258789    47   1322    145     1735   3458    8076   \n",
       "272  Rochester   10051   210562    42    918     92     1055   2587    6855   \n",
       "346    Yonkers    2368   199134     6    390     25      615    470    1662   \n",
       "\n",
       "     motor  arson  rob_cat  mur_cat           pop_2  pop_log10  \n",
       "216  7,434    NaN        1        1  70494931807876   6.924079  \n",
       "35     957    NaN        1        1     66971746521   5.412947  \n",
       "272    609  132.0        1        1     44336355844   5.323382  \n",
       "346    236   10.0        1        1     39654349956   5.299148  "
      ]
     },
     "execution_count": 17,
     "metadata": {},
     "output_type": "execute_result"
    }
   ],
   "source": [
    "df1.sort_values('pop', ascending=False).head(4)"
   ]
  },
  {
   "cell_type": "code",
   "execution_count": 18,
   "metadata": {
    "collapsed": true
   },
   "outputs": [],
   "source": [
    "# We drop New Yor and rerun \n",
    "df1 = df1.drop(df1.index[[216]])"
   ]
  },
  {
   "cell_type": "code",
   "execution_count": 19,
   "metadata": {},
   "outputs": [
    {
     "data": {
      "text/html": [
       "<div>\n",
       "<style>\n",
       "    .dataframe thead tr:only-child th {\n",
       "        text-align: right;\n",
       "    }\n",
       "\n",
       "    .dataframe thead th {\n",
       "        text-align: left;\n",
       "    }\n",
       "\n",
       "    .dataframe tbody tr th {\n",
       "        vertical-align: top;\n",
       "    }\n",
       "</style>\n",
       "<table border=\"1\" class=\"dataframe\">\n",
       "  <thead>\n",
       "    <tr style=\"text-align: right;\">\n",
       "      <th></th>\n",
       "      <th>City</th>\n",
       "      <th>prop</th>\n",
       "      <th>pop</th>\n",
       "      <th>murd</th>\n",
       "      <th>rob</th>\n",
       "      <th>rape2</th>\n",
       "      <th>assault</th>\n",
       "      <th>burg</th>\n",
       "      <th>theft</th>\n",
       "      <th>motor</th>\n",
       "      <th>arson</th>\n",
       "      <th>rob_cat</th>\n",
       "      <th>mur_cat</th>\n",
       "      <th>pop_2</th>\n",
       "      <th>pop_log10</th>\n",
       "    </tr>\n",
       "  </thead>\n",
       "  <tbody>\n",
       "    <tr>\n",
       "      <th>35</th>\n",
       "      <td>Buffalo</td>\n",
       "      <td>12491</td>\n",
       "      <td>258789</td>\n",
       "      <td>47</td>\n",
       "      <td>1322</td>\n",
       "      <td>145</td>\n",
       "      <td>1735</td>\n",
       "      <td>3458</td>\n",
       "      <td>8076</td>\n",
       "      <td>957</td>\n",
       "      <td>NaN</td>\n",
       "      <td>1</td>\n",
       "      <td>1</td>\n",
       "      <td>66971746521</td>\n",
       "      <td>5.412947</td>\n",
       "    </tr>\n",
       "    <tr>\n",
       "      <th>272</th>\n",
       "      <td>Rochester</td>\n",
       "      <td>10051</td>\n",
       "      <td>210562</td>\n",
       "      <td>42</td>\n",
       "      <td>918</td>\n",
       "      <td>92</td>\n",
       "      <td>1055</td>\n",
       "      <td>2587</td>\n",
       "      <td>6855</td>\n",
       "      <td>609</td>\n",
       "      <td>132.0</td>\n",
       "      <td>1</td>\n",
       "      <td>1</td>\n",
       "      <td>44336355844</td>\n",
       "      <td>5.323382</td>\n",
       "    </tr>\n",
       "    <tr>\n",
       "      <th>346</th>\n",
       "      <td>Yonkers</td>\n",
       "      <td>2368</td>\n",
       "      <td>199134</td>\n",
       "      <td>6</td>\n",
       "      <td>390</td>\n",
       "      <td>25</td>\n",
       "      <td>615</td>\n",
       "      <td>470</td>\n",
       "      <td>1662</td>\n",
       "      <td>236</td>\n",
       "      <td>10.0</td>\n",
       "      <td>1</td>\n",
       "      <td>1</td>\n",
       "      <td>39654349956</td>\n",
       "      <td>5.299148</td>\n",
       "    </tr>\n",
       "    <tr>\n",
       "      <th>310</th>\n",
       "      <td>Syracuse</td>\n",
       "      <td>6473</td>\n",
       "      <td>143834</td>\n",
       "      <td>21</td>\n",
       "      <td>400</td>\n",
       "      <td>75</td>\n",
       "      <td>696</td>\n",
       "      <td>1781</td>\n",
       "      <td>4298</td>\n",
       "      <td>394</td>\n",
       "      <td>57.0</td>\n",
       "      <td>1</td>\n",
       "      <td>1</td>\n",
       "      <td>20688219556</td>\n",
       "      <td>5.157865</td>\n",
       "    </tr>\n",
       "  </tbody>\n",
       "</table>\n",
       "</div>"
      ],
      "text/plain": [
       "          City   prop     pop  murd   rob  rape2  assault  burg  theft motor  \\\n",
       "35     Buffalo  12491  258789    47  1322    145     1735  3458   8076   957   \n",
       "272  Rochester  10051  210562    42   918     92     1055  2587   6855   609   \n",
       "346    Yonkers   2368  199134     6   390     25      615   470   1662   236   \n",
       "310   Syracuse   6473  143834    21   400     75      696  1781   4298   394   \n",
       "\n",
       "     arson  rob_cat  mur_cat        pop_2  pop_log10  \n",
       "35     NaN        1        1  66971746521   5.412947  \n",
       "272  132.0        1        1  44336355844   5.323382  \n",
       "346   10.0        1        1  39654349956   5.299148  \n",
       "310   57.0        1        1  20688219556   5.157865  "
      ]
     },
     "execution_count": 19,
     "metadata": {},
     "output_type": "execute_result"
    }
   ],
   "source": [
    "\n",
    "df1.sort_values('pop', ascending=False).head(4)"
   ]
  },
  {
   "cell_type": "code",
   "execution_count": 20,
   "metadata": {},
   "outputs": [
    {
     "data": {
      "text/plain": [
       "<seaborn.axisgrid.PairGrid at 0xd913da0>"
      ]
     },
     "execution_count": 20,
     "metadata": {},
     "output_type": "execute_result"
    },
    {
     "data": {
      "image/png": "[encoded data removed]",
      "text/plain": [
       "<matplotlib.figure.Figure at 0xd913400>"
      ]
     },
     "metadata": {},
     "output_type": "display_data"
    }
   ],
   "source": [
    "# visualize the relationship between the features and the response using scatterplots after removel of New York\n",
    "sns.pairplot(df1, x_vars=['pop','murd', 'pop_log10'], y_vars='prop', size=7, aspect=0.7, kind='reg')"
   ]
  },
  {
   "cell_type": "code",
   "execution_count": 21,
   "metadata": {},
   "outputs": [
    {
     "data": {
      "text/plain": [
       "<seaborn.axisgrid.PairGrid at 0xd913eb8>"
      ]
     },
     "execution_count": 21,
     "metadata": {},
     "output_type": "execute_result"
    },
    {
     "data": {
      "image/png": "[encoded data removed]",
      "text/plain": [
       "<matplotlib.figure.Figure at 0xd913be0>"
      ]
     },
     "metadata": {},
     "output_type": "display_data"
    }
   ],
   "source": [
    "sns.pairplot(df1, x_vars=['rob','rape2','assault'], y_vars='prop', size=7, aspect=0.7, kind='reg')"
   ]
  },
  {
   "cell_type": "code",
   "execution_count": 22,
   "metadata": {},
   "outputs": [
    {
     "data": {
      "text/plain": [
       "<seaborn.axisgrid.PairGrid at 0xdfa6a20>"
      ]
     },
     "execution_count": 22,
     "metadata": {},
     "output_type": "execute_result"
    },
    {
     "data": {
      "image/png": "[encoded data removed]",
      "text/plain": [
       "<matplotlib.figure.Figure at 0xdfa6b70>"
      ]
     },
     "metadata": {},
     "output_type": "display_data"
    }
   ],
   "source": [
    "sns.pairplot(df1, x_vars=['theft','burg'], y_vars='prop', size=7, aspect=0.7, kind='reg')"
   ]
  },
  {
   "cell_type": "code",
   "execution_count": 23,
   "metadata": {},
   "outputs": [
    {
     "data": {
      "text/plain": [
       "City           0\n",
       "prop           0\n",
       "pop            0\n",
       "murd           0\n",
       "rob            0\n",
       "rape2          0\n",
       "assault        0\n",
       "burg           0\n",
       "theft          0\n",
       "motor          0\n",
       "arson        160\n",
       "rob_cat        0\n",
       "mur_cat        0\n",
       "pop_2          0\n",
       "pop_log10      0\n",
       "dtype: int64"
      ]
     },
     "execution_count": 23,
     "metadata": {},
     "output_type": "execute_result"
    }
   ],
   "source": [
    "# Test to see if any NaN values\n",
    "len(df1)- df1.count()"
   ]
  },
  {
   "cell_type": "code",
   "execution_count": 24,
   "metadata": {
    "collapsed": true
   },
   "outputs": [],
   "source": [
    "# Replace NaN values of arson with its mean values\n",
    "df1 = df1.fillna(df1.mean())"
   ]
  },
  {
   "cell_type": "code",
   "execution_count": 25,
   "metadata": {},
   "outputs": [
    {
     "data": {
      "text/plain": [
       "City         0\n",
       "prop         0\n",
       "pop          0\n",
       "murd         0\n",
       "rob          0\n",
       "rape2        0\n",
       "assault      0\n",
       "burg         0\n",
       "theft        0\n",
       "motor        0\n",
       "arson        0\n",
       "rob_cat      0\n",
       "mur_cat      0\n",
       "pop_2        0\n",
       "pop_log10    0\n",
       "dtype: int64"
      ]
     },
     "execution_count": 25,
     "metadata": {},
     "output_type": "execute_result"
    }
   ],
   "source": [
    "# Test to see if any NaN values\n",
    "len(df1)- df1.count()"
   ]
  },
  {
   "cell_type": "markdown",
   "metadata": {},
   "source": [
    "### Form of linear regression\n",
    "\n",
    "$y = \\beta_0 + \\beta_1x_1 + \\beta_2x_2 + ... + \\beta_nx_n$\n",
    "\n",
    "- $y$ is the response\n",
    "- $\\beta_0$ is the intercept\n",
    "- $\\beta_1$ is the coefficient for $x_1$ (the first feature)\n",
    "- $\\beta_n$ is the coefficient for $x_n$ (the nth feature)\n",
    "\n",
    "In this case:\n",
    "\n",
    "$y = \\beta_0 + \\beta_1 \\times Population + \\beta_2 \\times Murder Category + \\beta_3 \\times Robbery Category$ + etc\n",
    "\n",
    "The $\\beta$ values are called the **model coefficients**. These values are \"learned\" during the model fitting step using the \"least squares\" criterion. Then, the fitted model can be used to make predictions!"
   ]
  },
  {
   "cell_type": "markdown",
   "metadata": {},
   "source": [
    "## Preparing X and y using pandas\n",
    "\n",
    "- X is feature matrix and y is the response vector."
   ]
  },
  {
   "cell_type": "code",
   "execution_count": 26,
   "metadata": {
    "collapsed": true
   },
   "outputs": [],
   "source": [
    "# Propertycrime = α + Population + Population2 + Murder + Robbery\n",
    "X = df1.loc[:,['pop','murd', 'rob', 'rape2', 'assault', 'burg', 'theft']].copy()\n",
    "y = df1.loc[:,'prop'].copy() # Property Crime"
   ]
  },
  {
   "cell_type": "code",
   "execution_count": 27,
   "metadata": {},
   "outputs": [
    {
     "data": {
      "text/html": [
       "<div>\n",
       "<style>\n",
       "    .dataframe thead tr:only-child th {\n",
       "        text-align: right;\n",
       "    }\n",
       "\n",
       "    .dataframe thead th {\n",
       "        text-align: left;\n",
       "    }\n",
       "\n",
       "    .dataframe tbody tr th {\n",
       "        vertical-align: top;\n",
       "    }\n",
       "</style>\n",
       "<table border=\"1\" class=\"dataframe\">\n",
       "  <thead>\n",
       "    <tr style=\"text-align: right;\">\n",
       "      <th></th>\n",
       "      <th>pop</th>\n",
       "      <th>murd</th>\n",
       "      <th>rob</th>\n",
       "      <th>rape2</th>\n",
       "      <th>assault</th>\n",
       "      <th>burg</th>\n",
       "      <th>theft</th>\n",
       "    </tr>\n",
       "  </thead>\n",
       "  <tbody>\n",
       "    <tr>\n",
       "      <th>0</th>\n",
       "      <td>1861</td>\n",
       "      <td>0</td>\n",
       "      <td>0</td>\n",
       "      <td>0</td>\n",
       "      <td>0</td>\n",
       "      <td>2</td>\n",
       "      <td>10</td>\n",
       "    </tr>\n",
       "    <tr>\n",
       "      <th>1</th>\n",
       "      <td>2577</td>\n",
       "      <td>0</td>\n",
       "      <td>0</td>\n",
       "      <td>0</td>\n",
       "      <td>3</td>\n",
       "      <td>3</td>\n",
       "      <td>20</td>\n",
       "    </tr>\n",
       "  </tbody>\n",
       "</table>\n",
       "</div>"
      ],
      "text/plain": [
       "    pop  murd  rob  rape2  assault  burg  theft\n",
       "0  1861     0    0      0        0     2     10\n",
       "1  2577     0    0      0        3     3     20"
      ]
     },
     "execution_count": 27,
     "metadata": {},
     "output_type": "execute_result"
    }
   ],
   "source": [
    "X.head(2)"
   ]
  },
  {
   "cell_type": "markdown",
   "metadata": {},
   "source": [
    "# Split data into training and testing "
   ]
  },
  {
   "cell_type": "code",
   "execution_count": 28,
   "metadata": {
    "collapsed": true
   },
   "outputs": [],
   "source": [
    "num_training = int(0.2 * len(X)) \n",
    "num_test = len(X) - num_training "
   ]
  },
  {
   "cell_type": "code",
   "execution_count": 29,
   "metadata": {
    "collapsed": true
   },
   "outputs": [],
   "source": [
    "# Training data \n",
    "X_train, y_train = X[:num_training], y[:num_training] \n",
    " \n",
    "# Test data \n",
    "X_test, y_test = X[num_training:], y[num_training:] "
   ]
  },
  {
   "cell_type": "code",
   "execution_count": 30,
   "metadata": {},
   "outputs": [
    {
     "name": "stdout",
     "output_type": "stream",
     "text": [
      "(69, 7)\n",
      "(69,)\n",
      "(278, 7)\n",
      "(278,)\n"
     ]
    }
   ],
   "source": [
    "# Use 80% for training and 20% for testing\n",
    "print(X_train.shape)\n",
    "print(y_train.shape)\n",
    "print(X_test.shape)\n",
    "print(y_test.shape)"
   ]
  },
  {
   "cell_type": "code",
   "execution_count": 31,
   "metadata": {},
   "outputs": [
    {
     "data": {
      "text/plain": [
       "LinearRegression(copy_X=True, fit_intercept=True, n_jobs=1, normalize=False)"
      ]
     },
     "execution_count": 31,
     "metadata": {},
     "output_type": "execute_result"
    }
   ],
   "source": [
    "# Create the linear regressor model \n",
    "linear_regressor = linear_model.LinearRegression() \n",
    "\n",
    "# Train the model using the training sets \n",
    "linear_regressor.fit(X_train, y_train) "
   ]
  },
  {
   "cell_type": "markdown",
   "metadata": {},
   "source": [
    "### Model coefficients:"
   ]
  },
  {
   "cell_type": "code",
   "execution_count": 32,
   "metadata": {},
   "outputs": [
    {
     "name": "stdout",
     "output_type": "stream",
     "text": [
      "-0.00411824921071\n",
      "[  1.45022695e-04  -4.37925745e+00   1.14383655e+00  -7.30903219e-01\n",
      "  -1.66436779e-01   9.83399131e-01   1.00795162e+00]\n"
     ]
    }
   ],
   "source": [
    "# print the intercept and coefficients\n",
    "print(linear_regressor.intercept_)\n",
    "print(linear_regressor.coef_)"
   ]
  },
  {
   "cell_type": "code",
   "execution_count": 33,
   "metadata": {},
   "outputs": [
    {
     "data": {
      "text/plain": [
       "[('pop', 12),\n",
       " ('murd', 24),\n",
       " ('rob', 16),\n",
       " ('rape2', 4090),\n",
       " ('assault', 223),\n",
       " ('burg', 46),\n",
       " ('theft', 10)]"
      ]
     },
     "execution_count": 33,
     "metadata": {},
     "output_type": "execute_result"
    }
   ],
   "source": [
    "# pair the feature names with the coefficients\n",
    "list(zip(X, y))"
   ]
  },
  {
   "cell_type": "markdown",
   "metadata": {},
   "source": [
    "### Making predictions"
   ]
  },
  {
   "cell_type": "code",
   "execution_count": 34,
   "metadata": {
    "collapsed": true
   },
   "outputs": [],
   "source": [
    "# Predict the output \n",
    "y_test_pred = linear_regressor.predict(X_test) "
   ]
  },
  {
   "cell_type": "code",
   "execution_count": 35,
   "metadata": {},
   "outputs": [
    {
     "name": "stdout",
     "output_type": "stream",
     "text": [
      "Linear Regressor performance:\n",
      "Mean absolute error = 5.68\n",
      "Mean squared error = 237.35\n",
      "Median absolute error = 1.74\n",
      "Explained variance score = 1.0\n",
      "R2 score = 1.0\n"
     ]
    }
   ],
   "source": [
    "# Measure performance \n",
    "print(\"Linear Regressor performance:\") \n",
    "print(\"Mean absolute error =\", round(sm.mean_absolute_error(y_test, y_test_pred), 2)) \n",
    "print(\"Mean squared error =\", round(sm.mean_squared_error(y_test, y_test_pred), 2)) \n",
    "print(\"Median absolute error =\", round(sm.median_absolute_error(y_test, y_test_pred), 2)) \n",
    "print(\"Explained variance score =\", round(sm.explained_variance_score(y_test, y_test_pred), 2)) \n",
    "print(\"R2 score =\", round(sm.r2_score(y_test, y_test_pred), 2)) "
   ]
  },
  {
   "cell_type": "markdown",
   "metadata": {},
   "source": [
    "We need an **evaluation metric** in order to compare our predictions with the actual values!"
   ]
  },
  {
   "cell_type": "markdown",
   "metadata": {},
   "source": [
    "<h2> R square is 100% and this can be sign of overfitting\n",
    "</h2>"
   ]
  },
  {
   "cell_type": "code",
   "execution_count": 36,
   "metadata": {},
   "outputs": [
    {
     "name": "stderr",
     "output_type": "stream",
     "text": [
      "C:\\Users\\aath\\AppData\\Local\\Continuum\\anaconda3\\lib\\site-packages\\sklearn\\cross_validation.py:41: DeprecationWarning: This module was deprecated in version 0.18 in favor of the model_selection module into which all the refactored classes and functions are moved. Also note that the interface of the new CV iterators are different from that of this module. This module will be removed in 0.20.\n",
      "  \"This module will be removed in 0.20.\", DeprecationWarning)\n"
     ]
    }
   ],
   "source": [
    "from sklearn.cross_validation import train_test_split\n",
    "from sklearn.neighbors import KNeighborsClassifier\n",
    "from sklearn import metrics"
   ]
  },
  {
   "cell_type": "code",
   "execution_count": 43,
   "metadata": {},
   "outputs": [
    {
     "name": "stdout",
     "output_type": "stream",
     "text": [
      "0.0\n"
     ]
    }
   ],
   "source": [
    "# use train/test split with different random_state values\n",
    "X_train, X_test, y_train, y_test = train_test_split(X, y, random_state=10)\n",
    "\n",
    "# check classification accuracy of KNN with K=5\n",
    "knn = KNeighborsClassifier(n_neighbors=)\n",
    "knn.fit(X_train, y_train)\n",
    "y_pred = knn.predict(X_test)\n",
    "print(metrics.accuracy_score(y_test, y_pred))"
   ]
  },
  {
   "cell_type": "code",
   "execution_count": 39,
   "metadata": {},
   "outputs": [
    {
     "ename": "NameError",
     "evalue": "name 'cross_val_score' is not defined",
     "output_type": "error",
     "traceback": [
      "\u001b[1;31m---------------------------------------------------------------------------\u001b[0m",
      "\u001b[1;31mNameError\u001b[0m                                 Traceback (most recent call last)",
      "\u001b[1;32m<ipython-input-39-bffa78774f67>\u001b[0m in \u001b[0;36m<module>\u001b[1;34m()\u001b[0m\n\u001b[0;32m      1\u001b[0m \u001b[1;31m#10-fold cross-validation with K=5 for KNN (the n_neighbors parameter)\u001b[0m\u001b[1;33m\u001b[0m\u001b[1;33m\u001b[0m\u001b[0m\n\u001b[0;32m      2\u001b[0m \u001b[0mknn\u001b[0m \u001b[1;33m=\u001b[0m \u001b[0mKNeighborsClassifier\u001b[0m\u001b[1;33m(\u001b[0m\u001b[0mn_neighbors\u001b[0m\u001b[1;33m=\u001b[0m\u001b[1;36m5\u001b[0m\u001b[1;33m)\u001b[0m\u001b[1;33m\u001b[0m\u001b[0m\n\u001b[1;32m----> 3\u001b[1;33m \u001b[0mscores\u001b[0m \u001b[1;33m=\u001b[0m \u001b[0mcross_val_score\u001b[0m\u001b[1;33m(\u001b[0m\u001b[0mknn\u001b[0m\u001b[1;33m,\u001b[0m \u001b[0mX\u001b[0m\u001b[1;33m,\u001b[0m \u001b[0my\u001b[0m\u001b[1;33m,\u001b[0m \u001b[0mcv\u001b[0m\u001b[1;33m=\u001b[0m\u001b[1;36m4\u001b[0m\u001b[1;33m,\u001b[0m \u001b[0mscoring\u001b[0m\u001b[1;33m=\u001b[0m\u001b[1;34m'accuracy'\u001b[0m\u001b[1;33m)\u001b[0m\u001b[1;33m\u001b[0m\u001b[0m\n\u001b[0m\u001b[0;32m      4\u001b[0m \u001b[0mprint\u001b[0m\u001b[1;33m(\u001b[0m\u001b[0mscores\u001b[0m\u001b[1;33m)\u001b[0m\u001b[1;33m\u001b[0m\u001b[0m\n",
      "\u001b[1;31mNameError\u001b[0m: name 'cross_val_score' is not defined"
     ]
    }
   ],
   "source": [
    "#10-fold cross-validation with K=5 for KNN (the n_neighbors parameter)\n",
    "knn = KNeighborsClassifier(n_neighbors=5)\n",
    "scores = cross_val_score(knn, X, y, cv=4, scoring='accuracy')\n",
    "print(scores)"
   ]
  },
  {
   "cell_type": "code",
   "execution_count": null,
   "metadata": {
    "collapsed": true
   },
   "outputs": [],
   "source": []
  },
  {
   "cell_type": "code",
   "execution_count": null,
   "metadata": {
    "collapsed": true
   },
   "outputs": [],
   "source": []
  }
 ],
 "metadata": {
  "celltoolbar": "Tags",
  "kernelspec": {
   "display_name": "Python 3",
   "language": "python",
   "name": "python3"
  },
  "language_info": {
   "codemirror_mode": {
    "name": "ipython",
    "version": 3
   },
   "file_extension": ".py",
   "mimetype": "text/x-python",
   "name": "python",
   "nbconvert_exporter": "python",
   "pygments_lexer": "ipython3",
   "version": "3.6.3"
  }
 },
 "nbformat": 4,
 "nbformat_minor": 2
}
