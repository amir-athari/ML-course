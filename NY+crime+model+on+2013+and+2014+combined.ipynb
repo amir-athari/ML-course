{
 "cells": [
  {
   "cell_type": "markdown",
   "metadata": {},
   "source": [
    "<h2> Building a maultivariable regressor using crime data in New York State in 2013 and 2014, provided by the FBI: UCR.\n",
    "Train, Test and Validate</h2> "
   ]
  },
  {
   "cell_type": "code",
   "execution_count": 109,
   "metadata": {
    "collapsed": true
   },
   "outputs": [],
   "source": [
    "%matplotlib inline\n",
    "import numpy as np\n",
    "import pandas as pd\n",
    "import matplotlib.pyplot as plt\n",
    "import seaborn as sns\n",
    "from sklearn import linear_model \n",
    "import sklearn.metrics as sm \n",
    "from sklearn.preprocessing import PolynomialFeatures "
   ]
  },
  {
   "cell_type": "code",
   "execution_count": 110,
   "metadata": {
    "collapsed": true
   },
   "outputs": [],
   "source": [
    "# Grab and process the cleaned data\n",
    "path1 = (\"C:/Users/aath/Dropbox/MAEN/Thankful/Data/NY Crime/NY_Crime_2013_2014_cleaned.csv\")\n",
    "df_import = pd.read_csv(path1)"
   ]
  },
  {
   "cell_type": "code",
   "execution_count": 111,
   "metadata": {},
   "outputs": [
    {
     "data": {
      "text/plain": [
       "yr           int64\n",
       "City        object\n",
       "prop         int64\n",
       "pop          int64\n",
       "murd         int64\n",
       "rob          int64\n",
       "violent      int64\n",
       "assul        int64\n",
       "burg         int64\n",
       "theft        int64\n",
       "motor        int64\n",
       "pop_log    float64\n",
       "dtype: object"
      ]
     },
     "execution_count": 111,
     "metadata": {},
     "output_type": "execute_result"
    }
   ],
   "source": [
    "df_import.dtypes"
   ]
  },
  {
   "cell_type": "code",
   "execution_count": 112,
   "metadata": {
    "collapsed": true
   },
   "outputs": [],
   "source": [
    "cols1 = [col for col in df_import.columns if col not in ['yr','pop','City']]"
   ]
  },
  {
   "cell_type": "code",
   "execution_count": 114,
   "metadata": {
    "collapsed": true
   },
   "outputs": [],
   "source": [
    "df_main = df_import[cols1].astype('float64')"
   ]
  },
  {
   "cell_type": "code",
   "execution_count": 116,
   "metadata": {
    "scrolled": true
   },
   "outputs": [
    {
     "data": {
      "text/html": [
       "<div>\n",
       "<style>\n",
       "    .dataframe thead tr:only-child th {\n",
       "        text-align: right;\n",
       "    }\n",
       "\n",
       "    .dataframe thead th {\n",
       "        text-align: left;\n",
       "    }\n",
       "\n",
       "    .dataframe tbody tr th {\n",
       "        vertical-align: top;\n",
       "    }\n",
       "</style>\n",
       "<table border=\"1\" class=\"dataframe\">\n",
       "  <thead>\n",
       "    <tr style=\"text-align: right;\">\n",
       "      <th></th>\n",
       "      <th>prop</th>\n",
       "      <th>murd</th>\n",
       "      <th>rob</th>\n",
       "      <th>violent</th>\n",
       "      <th>assul</th>\n",
       "      <th>burg</th>\n",
       "      <th>theft</th>\n",
       "      <th>motor</th>\n",
       "      <th>pop_log</th>\n",
       "    </tr>\n",
       "  </thead>\n",
       "  <tbody>\n",
       "    <tr>\n",
       "      <th>0</th>\n",
       "      <td>12.0</td>\n",
       "      <td>0.0</td>\n",
       "      <td>0.0</td>\n",
       "      <td>0.0</td>\n",
       "      <td>0.0</td>\n",
       "      <td>2.0</td>\n",
       "      <td>10.0</td>\n",
       "      <td>0.0</td>\n",
       "      <td>7.528869</td>\n",
       "    </tr>\n",
       "    <tr>\n",
       "      <th>1</th>\n",
       "      <td>24.0</td>\n",
       "      <td>0.0</td>\n",
       "      <td>0.0</td>\n",
       "      <td>3.0</td>\n",
       "      <td>3.0</td>\n",
       "      <td>3.0</td>\n",
       "      <td>20.0</td>\n",
       "      <td>1.0</td>\n",
       "      <td>7.854381</td>\n",
       "    </tr>\n",
       "    <tr>\n",
       "      <th>2</th>\n",
       "      <td>16.0</td>\n",
       "      <td>0.0</td>\n",
       "      <td>0.0</td>\n",
       "      <td>3.0</td>\n",
       "      <td>3.0</td>\n",
       "      <td>1.0</td>\n",
       "      <td>15.0</td>\n",
       "      <td>0.0</td>\n",
       "      <td>7.953670</td>\n",
       "    </tr>\n",
       "  </tbody>\n",
       "</table>\n",
       "</div>"
      ],
      "text/plain": [
       "   prop  murd  rob  violent  assul  burg  theft  motor   pop_log\n",
       "0  12.0   0.0  0.0      0.0    0.0   2.0   10.0    0.0  7.528869\n",
       "1  24.0   0.0  0.0      3.0    3.0   3.0   20.0    1.0  7.854381\n",
       "2  16.0   0.0  0.0      3.0    3.0   1.0   15.0    0.0  7.953670"
      ]
     },
     "execution_count": 116,
     "metadata": {},
     "output_type": "execute_result"
    }
   ],
   "source": [
    "df_main.head(3)"
   ]
  },
  {
   "cell_type": "code",
   "execution_count": 117,
   "metadata": {
    "scrolled": true
   },
   "outputs": [
    {
     "data": {
      "text/plain": [
       "prop       0\n",
       "murd       0\n",
       "rob        0\n",
       "violent    0\n",
       "assul      0\n",
       "burg       0\n",
       "theft      0\n",
       "motor      0\n",
       "pop_log    0\n",
       "dtype: int64"
      ]
     },
     "execution_count": 117,
     "metadata": {},
     "output_type": "execute_result"
    }
   ],
   "source": [
    "# Check to see if any missing data \n",
    "df_main.isnull().sum()"
   ]
  },
  {
   "cell_type": "code",
   "execution_count": 118,
   "metadata": {},
   "outputs": [
    {
     "data": {
      "image/png": "[encoded data removed]",
      "text/plain": [
       "<matplotlib.figure.Figure at 0xe6677b8>"
      ]
     },
     "metadata": {},
     "output_type": "display_data"
    }
   ],
   "source": [
    "sns.distplot(df_main['pop_log']);"
   ]
  },
  {
   "cell_type": "markdown",
   "metadata": {},
   "source": [
    "<h2> Train, validation and test data </h2>"
   ]
  },
  {
   "cell_type": "code",
   "execution_count": 119,
   "metadata": {},
   "outputs": [
    {
     "name": "stderr",
     "output_type": "stream",
     "text": [
      "C:\\Users\\aath\\AppData\\Local\\Continuum\\anaconda3\\lib\\site-packages\\sklearn\\model_selection\\_split.py:2026: FutureWarning: From version 0.21, test_size will always complement train_size unless both are specified.\n",
      "  FutureWarning)\n"
     ]
    }
   ],
   "source": [
    "from sklearn.model_selection import train_test_split        \n",
    "\n",
    "def data_split(df_main,trf = 0.5,vlf=0.25,tsf = 0.25): \n",
    "    nrows = df_main.shape[0] \n",
    "    trnr = int(nrows*trf)\n",
    "    vlnr = int(nrows*vlf) \n",
    "    \n",
    "# Break the data into training and remaning\n",
    "    tr_data,rmng = train_test_split(df_main,train_size = trnr,random_state=40)\n",
    "    vl_data, ts_data = train_test_split(rmng,train_size = vlnr,random_state=43)\n",
    "    return (tr_data,vl_data,ts_data) \n",
    "\n",
    "train_data, validation_data, test_data = data_split (df_main ,trf=0.5, vlf=0.25, tsf=0.25) \n",
    "\n",
    "# Propertycrime = α + Population + Population2 + Murder + Robbery + etc.\n",
    "\n",
    "cols_X = [col for col in df_main.columns if col not in ['prop']]\n",
    "\n",
    "X_train_data = train_data.loc[:,cols_X].copy()\n",
    "X_validation_data = validation_data.loc[:,cols_X].copy()\n",
    "X_test_data = test_data.loc[:,cols_X].copy()\n",
    "\n",
    "y_train_data = train_data.loc[:,'prop'].copy()\n",
    "y_validation_data = validation_data.loc[:,'prop'].copy()\n",
    "y_test_data = test_data.loc[:,'prop'].copy()\n",
    "\n"
   ]
  },
  {
   "cell_type": "code",
   "execution_count": 120,
   "metadata": {
    "collapsed": true
   },
   "outputs": [],
   "source": [
    "X_test = train_data.loc[:,cols_X].copy()\n",
    "y_test = train_data.loc[:,cols_X].copy()\n",
    "y_train = train_data.loc[:,'prop'].copy()\n",
    "y_test = train_data.loc[:,'prop'].copy()"
   ]
  },
  {
   "cell_type": "code",
   "execution_count": 127,
   "metadata": {},
   "outputs": [],
   "source": [
    "import statsmodels.api as sm\n",
    "sm_OLS_test = sm.OLS(y_train_data, X_train_data) "
   ]
  },
  {
   "cell_type": "code",
   "execution_count": 128,
   "metadata": {},
   "outputs": [
    {
     "name": "stdout",
     "output_type": "stream",
     "text": [
      "\n",
      " \n",
      "                             OLS Regression Results                            \n",
      "==============================================================================\n",
      "Dep. Variable:                   prop   R-squared:                       1.000\n",
      "Model:                            OLS   Adj. R-squared:                  1.000\n",
      "Method:                 Least Squares   F-statistic:                 1.503e+29\n",
      "Date:                Mon, 23 Apr 2018   Prob (F-statistic):               0.00\n",
      "Time:                        18:19:58   Log-Likelihood:                 7529.2\n",
      "No. Observations:                 358   AIC:                        -1.504e+04\n",
      "Df Residuals:                     350   BIC:                        -1.501e+04\n",
      "Df Model:                           8                                         \n",
      "Covariance Type:            nonrobust                                         \n",
      "==============================================================================\n",
      "                 coef    std err          t      P>|t|      [0.025      0.975]\n",
      "------------------------------------------------------------------------------\n",
      "murd       -3.268e-13   1.39e-11     -0.024      0.981   -2.76e-11    2.69e-11\n",
      "rob         3.686e-14   1.22e-12      0.030      0.976   -2.37e-12    2.44e-12\n",
      "violent     -9.77e-14      2e-12     -0.049      0.961   -4.02e-12    3.83e-12\n",
      "assul       1.013e-13   2.38e-12      0.043      0.966   -4.58e-12    4.78e-12\n",
      "burg           1.0000   2.23e-13   4.48e+12      0.000       1.000       1.000\n",
      "theft          1.0000   3.87e-14   2.59e+13      0.000       1.000       1.000\n",
      "motor          1.0000    1.1e-12   9.07e+11      0.000       1.000       1.000\n",
      "pop_log    -1.688e-14    1.3e-12     -0.013      0.990   -2.57e-12    2.53e-12\n",
      "==============================================================================\n",
      "Omnibus:                      709.429   Durbin-Watson:                   1.994\n",
      "Prob(Omnibus):                  0.000   Jarque-Bera (JB):           453529.364\n",
      "Skew:                          13.171   Prob(JB):                         0.00\n",
      "Kurtosis:                     175.367   Cond. No.                     1.45e+04\n",
      "==============================================================================\n",
      "\n",
      "Warnings:\n",
      "[1] Standard Errors assume that the covariance matrix of the errors is correctly specified.\n",
      "[2] The condition number is large, 1.45e+04. This might indicate that there are\n",
      "strong multicollinearity or other numerical problems.\n"
     ]
    }
   ],
   "source": [
    "full_res = sm_OLS_test.fit() \n",
    "print (\"\\n \\n\",full_res.summary()) "
   ]
  },
  {
   "cell_type": "markdown",
   "metadata": {},
   "source": [
    "R^2 = 1 is sign of overfitting.\n",
    "\n",
    "Based on t values of murd and rob we need to rerun this model by elimianting these two features, one by one.\n",
    "\n",
    "Also look at the Durbin-Watson test. Durbin-Watson's d tests the null hypothesis that the residuals are not linearly auto correlated. While d can lie between 0 and 4, if d ≈ 2 indicates no autocorrelation, 0<d<2 implies positive autocorrelation, and 2<d<4 indicates negative autocorrelation."
   ]
  },
  {
   "cell_type": "code",
   "execution_count": 129,
   "metadata": {
    "collapsed": true
   },
   "outputs": [],
   "source": [
    "predictions = full_res.predict(X_test_data)"
   ]
  },
  {
   "cell_type": "code",
   "execution_count": 130,
   "metadata": {},
   "outputs": [
    {
     "data": {
      "text/plain": [
       "pandas.core.series.Series"
      ]
     },
     "execution_count": 130,
     "metadata": {},
     "output_type": "execute_result"
    }
   ],
   "source": [
    "type(predictions)"
   ]
  },
  {
   "cell_type": "code",
   "execution_count": 131,
   "metadata": {
    "collapsed": true
   },
   "outputs": [],
   "source": [
    "residual = y_test_data - predictions"
   ]
  },
  {
   "cell_type": "code",
   "execution_count": 132,
   "metadata": {
    "scrolled": true
   },
   "outputs": [
    {
     "data": {
      "image/png": "[encoded data removed]",
      "text/plain": [
       "<matplotlib.figure.Figure at 0xe747748>"
      ]
     },
     "metadata": {},
     "output_type": "display_data"
    }
   ],
   "source": [
    "# Outliers or skewness in error \n",
    "plt.hist(residual)\n",
    "plt.title('Residual counts')\n",
    "plt.xlabel('Residual')\n",
    "plt.ylabel('Count')\n",
    "plt.show()"
   ]
  },
  {
   "cell_type": "code",
   "execution_count": 133,
   "metadata": {
    "scrolled": true
   },
   "outputs": [
    {
     "data": {
      "image/png": "[encoded data removed]",
      "text/plain": [
       "<matplotlib.figure.Figure at 0xe72e898>"
      ]
     },
     "metadata": {},
     "output_type": "display_data"
    }
   ],
   "source": [
    "# The distribution of error terms (its \"scedasticity\"), should be consistent for all predicted values, or homoscedastic\n",
    "plt.scatter(predictions, residual)\n",
    "plt.xlabel('Predicted')\n",
    "plt.ylabel('Residual')\n",
    "plt.axhline(y=0)\n",
    "plt.title('Residual vs. Predicted')\n",
    "plt.show()"
   ]
  },
  {
   "cell_type": "code",
   "execution_count": 134,
   "metadata": {
    "scrolled": true
   },
   "outputs": [
    {
     "data": {
      "image/png": "[encoded data removed]",
      "text/plain": [
       "<matplotlib.figure.Figure at 0xe6ef5f8>"
      ]
     },
     "metadata": {},
     "output_type": "display_data"
    }
   ],
   "source": [
    "import numpy as np \n",
    "import pylab\n",
    "import scipy.stats as stats\n",
    "\n",
    "#measurements = np.random.normal(loc = 20, scale = 5, size=100)   \n",
    "stats.probplot(predictions, dist=\"norm\", plot=pylab)\n",
    "pylab.show()"
   ]
  },
  {
   "cell_type": "code",
   "execution_count": null,
   "metadata": {
    "collapsed": true
   },
   "outputs": [],
   "source": []
  },
  {
   "cell_type": "markdown",
   "metadata": {
    "collapsed": true
   },
   "source": [
    "<h1> Rerun the model by eliminating murd because of highest p value</h1>"
   ]
  },
  {
   "cell_type": "code",
   "execution_count": 171,
   "metadata": {
    "collapsed": true
   },
   "outputs": [],
   "source": [
    "# Grab and process the cleaned data\n",
    "path1 = (\"C:/Users/aath/Dropbox/MAEN/Thankful/Data/NY Crime/NY_Crime_2013_2014_cleaned.csv\")\n",
    "df_import = pd.read_csv(path1)"
   ]
  },
  {
   "cell_type": "code",
   "execution_count": 172,
   "metadata": {
    "collapsed": true
   },
   "outputs": [],
   "source": [
    "cols1 = [col for col in df_import.columns if col not in ['yr','pop', 'murd','City']]"
   ]
  },
  {
   "cell_type": "code",
   "execution_count": 189,
   "metadata": {
    "collapsed": true
   },
   "outputs": [],
   "source": [
    "df_main = df_import[cols1].astype('float64')"
   ]
  },
  {
   "cell_type": "markdown",
   "metadata": {},
   "source": [
    "<h2> Train, validation and test data </h2>"
   ]
  },
  {
   "cell_type": "code",
   "execution_count": 190,
   "metadata": {},
   "outputs": [
    {
     "name": "stderr",
     "output_type": "stream",
     "text": [
      "C:\\Users\\aath\\AppData\\Local\\Continuum\\anaconda3\\lib\\site-packages\\sklearn\\model_selection\\_split.py:2026: FutureWarning: From version 0.21, test_size will always complement train_size unless both are specified.\n",
      "  FutureWarning)\n"
     ]
    }
   ],
   "source": [
    "from sklearn.model_selection import train_test_split        \n",
    "\n",
    "def data_split(df_main,trf = 0.5,vlf=0.25,tsf = 0.25): \n",
    "    nrows = df_main.shape[0] \n",
    "    trnr = int(nrows*trf)\n",
    "    vlnr = int(nrows*vlf) \n",
    "    \n",
    "# Break the data into training and remaning\n",
    "    tr_data,rmng = train_test_split(df_main,train_size = trnr,random_state=40)\n",
    "    vl_data, ts_data = train_test_split(rmng,train_size = vlnr,random_state=43)\n",
    "    return (tr_data,vl_data,ts_data) \n",
    "\n",
    "train_data, validation_data, test_data = data_split (df_main ,trf=0.5, vlf=0.25, tsf=0.25) \n",
    "\n",
    "# Propertycrime = α + Population + Population2 + Murder + Robbery + etc.\n",
    "\n",
    "cols_X = [col for col in df_main.columns if col not in ['prop']]\n",
    "\n",
    "X_train_data = train_data.loc[:,cols_X].copy()\n",
    "X_validation_data = validation_data.loc[:,cols_X].copy()\n",
    "X_test_data = test_data.loc[:,cols_X].copy()\n",
    "\n",
    "y_train_data = train_data.loc[:,'prop'].copy()\n",
    "y_validation_data = validation_data.loc[:,'prop'].copy()\n",
    "y_test_data = test_data.loc[:,'prop'].copy()\n",
    "\n"
   ]
  },
  {
   "cell_type": "code",
   "execution_count": 191,
   "metadata": {
    "collapsed": true
   },
   "outputs": [],
   "source": [
    "X_test = train_data.loc[:,cols_X].copy()\n",
    "y_test = train_data.loc[:,cols_X].copy()\n",
    "y_train = train_data.loc[:,'prop'].copy()\n",
    "y_test = train_data.loc[:,'prop'].copy()"
   ]
  },
  {
   "cell_type": "code",
   "execution_count": 192,
   "metadata": {
    "collapsed": true
   },
   "outputs": [],
   "source": [
    "import statsmodels.api as sm\n",
    "sm_OLS_test = sm.OLS(y_train_data, X_train_data) "
   ]
  },
  {
   "cell_type": "code",
   "execution_count": 193,
   "metadata": {},
   "outputs": [
    {
     "name": "stdout",
     "output_type": "stream",
     "text": [
      "\n",
      " \n",
      "                             OLS Regression Results                            \n",
      "==============================================================================\n",
      "Dep. Variable:                   prop   R-squared:                       1.000\n",
      "Model:                            OLS   Adj. R-squared:                  1.000\n",
      "Method:                 Least Squares   F-statistic:                 7.429e+30\n",
      "Date:                Mon, 23 Apr 2018   Prob (F-statistic):               0.00\n",
      "Time:                        18:41:21   Log-Likelihood:                 8101.2\n",
      "No. Observations:                 358   AIC:                        -1.619e+04\n",
      "Df Residuals:                     354   BIC:                        -1.618e+04\n",
      "Df Model:                           4                                         \n",
      "Covariance Type:            nonrobust                                         \n",
      "==============================================================================\n",
      "                 coef    std err          t      P>|t|      [0.025      0.975]\n",
      "------------------------------------------------------------------------------\n",
      "burg           1.0000   1.71e-14   5.84e+13      0.000       1.000       1.000\n",
      "theft          1.0000   3.31e-15   3.02e+14      0.000       1.000       1.000\n",
      "motor          1.0000   6.49e-14   1.54e+13      0.000       1.000       1.000\n",
      "pop_log     6.217e-14    2.3e-13      0.271      0.787    -3.9e-13    5.14e-13\n",
      "==============================================================================\n",
      "Omnibus:                      710.636   Durbin-Watson:                   2.004\n",
      "Prob(Omnibus):                  0.000   Jarque-Bera (JB):           458891.399\n",
      "Skew:                          13.215   Prob(JB):                         0.00\n",
      "Kurtosis:                     176.393   Cond. No.                     1.05e+03\n",
      "==============================================================================\n",
      "\n",
      "Warnings:\n",
      "[1] Standard Errors assume that the covariance matrix of the errors is correctly specified.\n",
      "[2] The condition number is large, 1.05e+03. This might indicate that there are\n",
      "strong multicollinearity or other numerical problems.\n"
     ]
    }
   ],
   "source": [
    "full_res = sm_OLS_test.fit() \n",
    "print (\"\\n \\n\",full_res.summary()) "
   ]
  },
  {
   "cell_type": "markdown",
   "metadata": {},
   "source": [
    "R^2 = 1 is sign of overfitting.\n",
    "\n",
    "Based on t values of murd and rob we need to rerun this model by elimianting these two features, one by one.\n",
    "\n",
    "Also look at the Durbin-Watson test. Durbin-Watson's d tests the null hypothesis that the residuals are not linearly auto correlated. While d can lie between 0 and 4, if d ≈ 2 indicates no autocorrelation, 0<d<2 implies positive autocorrelation, and 2<d<4 indicates negative autocorrelation."
   ]
  },
  {
   "cell_type": "code",
   "execution_count": null,
   "metadata": {
    "collapsed": true
   },
   "outputs": [],
   "source": []
  },
  {
   "cell_type": "markdown",
   "metadata": {},
   "source": [
    "<h1> Try different holdout ratio and also eliminate more features with highest p values </h1>"
   ]
  },
  {
   "cell_type": "code",
   "execution_count": null,
   "metadata": {
    "collapsed": true
   },
   "outputs": [],
   "source": []
  },
  {
   "cell_type": "code",
   "execution_count": 195,
   "metadata": {
    "collapsed": true
   },
   "outputs": [],
   "source": [
    "# Grab and process the cleaned data\n",
    "path1 = (\"C:/Users/aath/Dropbox/MAEN/Thankful/Data/NY Crime/NY_Crime_2013_2014_cleaned.csv\")\n",
    "df_import = pd.read_csv(path1)"
   ]
  },
  {
   "cell_type": "code",
   "execution_count": 202,
   "metadata": {
    "collapsed": true
   },
   "outputs": [],
   "source": [
    "cols1 = [col for col in df_import.columns if col not in ['yr','pop','City', 'murd','rob', 'violent', 'assul', 'pop_log']]"
   ]
  },
  {
   "cell_type": "code",
   "execution_count": 203,
   "metadata": {
    "collapsed": true
   },
   "outputs": [],
   "source": [
    "df_main = df_import[cols1].astype('float64')"
   ]
  },
  {
   "cell_type": "markdown",
   "metadata": {},
   "source": [
    "<h2> Train, validation and test data </h2>"
   ]
  },
  {
   "cell_type": "code",
   "execution_count": 224,
   "metadata": {},
   "outputs": [
    {
     "name": "stderr",
     "output_type": "stream",
     "text": [
      "C:\\Users\\aath\\AppData\\Local\\Continuum\\anaconda3\\lib\\site-packages\\sklearn\\model_selection\\_split.py:2026: FutureWarning: From version 0.21, test_size will always complement train_size unless both are specified.\n",
      "  FutureWarning)\n"
     ]
    }
   ],
   "source": [
    "from sklearn.model_selection import train_test_split        \n",
    "\n",
    "def data_split(df_main,trf = 0.8,vlf=0.0,tsf = 0.2): \n",
    "    nrows = df_main.shape[0] \n",
    "    trnr = int(nrows*trf)\n",
    "    vlnr = int(nrows*vlf) \n",
    "    \n",
    "# Break the data into training and remaning\n",
    "    tr_data,rmng = train_test_split(df_main,train_size = trnr,random_state=40)\n",
    "    vl_data, ts_data = train_test_split(rmng,train_size = vlnr,random_state=43)\n",
    "    return (tr_data,vl_data,ts_data) \n",
    "\n",
    "train_data, validation_data, test_data = data_split (df_main ,trf=0.8, vlf=0.01, tsf=0.19) \n",
    "\n",
    "# Propertycrime = α + Population + Population2 + Murder + Robbery + etc.\n",
    "\n",
    "cols_X = [col for col in df_main.columns if col not in ['prop']]\n",
    "\n",
    "X_train_data = train_data.loc[:,cols_X].copy()\n",
    "X_validation_data = validation_data.loc[:,cols_X].copy()\n",
    "X_test_data = test_data.loc[:,cols_X].copy()\n",
    "\n",
    "y_train_data = train_data.loc[:,'prop'].copy()\n",
    "y_validation_data = validation_data.loc[:,'prop'].copy()\n",
    "y_test_data = test_data.loc[:,'prop'].copy()\n",
    "\n"
   ]
  },
  {
   "cell_type": "code",
   "execution_count": 225,
   "metadata": {
    "collapsed": true
   },
   "outputs": [],
   "source": [
    "X_test = train_data.loc[:,cols_X].copy()\n",
    "y_test = train_data.loc[:,cols_X].copy()\n",
    "y_train = train_data.loc[:,'prop'].copy()\n",
    "y_test = train_data.loc[:,'prop'].copy()"
   ]
  },
  {
   "cell_type": "code",
   "execution_count": 226,
   "metadata": {
    "collapsed": true
   },
   "outputs": [],
   "source": [
    "import statsmodels.api as sm\n",
    "sm_OLS_test = sm.OLS(y_train_data, X_train_data) "
   ]
  },
  {
   "cell_type": "code",
   "execution_count": 227,
   "metadata": {},
   "outputs": [
    {
     "name": "stdout",
     "output_type": "stream",
     "text": [
      "\n",
      " \n",
      "                             OLS Regression Results                            \n",
      "==============================================================================\n",
      "Dep. Variable:                   prop   R-squared:                       1.000\n",
      "Model:                            OLS   Adj. R-squared:                  1.000\n",
      "Method:                 Least Squares   F-statistic:                 8.240e+31\n",
      "Date:                Mon, 23 Apr 2018   Prob (F-statistic):               0.00\n",
      "Time:                        18:46:08   Log-Likelihood:                 13546.\n",
      "No. Observations:                 572   AIC:                        -2.709e+04\n",
      "Df Residuals:                     569   BIC:                        -2.707e+04\n",
      "Df Model:                           3                                         \n",
      "Covariance Type:            nonrobust                                         \n",
      "==============================================================================\n",
      "                 coef    std err          t      P>|t|      [0.025      0.975]\n",
      "------------------------------------------------------------------------------\n",
      "burg           1.0000   4.49e-15   2.23e+14      0.000       1.000       1.000\n",
      "theft          1.0000   9.81e-16   1.02e+15      0.000       1.000       1.000\n",
      "motor          1.0000   1.89e-14    5.3e+13      0.000       1.000       1.000\n",
      "==============================================================================\n",
      "Omnibus:                     1202.153   Durbin-Watson:                   1.967\n",
      "Prob(Omnibus):                  0.000   Jarque-Bera (JB):          1777718.412\n",
      "Skew:                         -16.019   Prob(JB):                         0.00\n",
      "Kurtosis:                     274.225   Cond. No.                         251.\n",
      "==============================================================================\n",
      "\n",
      "Warnings:\n",
      "[1] Standard Errors assume that the covariance matrix of the errors is correctly specified.\n"
     ]
    }
   ],
   "source": [
    "full_res = sm_OLS_test.fit() \n",
    "print (\"\\n \\n\",full_res.summary()) "
   ]
  },
  {
   "cell_type": "markdown",
   "metadata": {},
   "source": [
    "R^2 = 1 is sign of overfitting.\n",
    "\n",
    "Also look at the Durbin-Watson test. Durbin-Watson's d tests the null hypothesis that the residuals are not linearly auto correlated. While d can lie between 0 and 4, if d ≈ 2 indicates no autocorrelation, 0<d<2 implies positive autocorrelation, and 2<d<4 indicates negative autocorrelation."
   ]
  },
  {
   "cell_type": "code",
   "execution_count": 228,
   "metadata": {
    "collapsed": true
   },
   "outputs": [],
   "source": [
    "predictions = full_res.predict(X_test_data)"
   ]
  },
  {
   "cell_type": "code",
   "execution_count": 229,
   "metadata": {},
   "outputs": [
    {
     "data": {
      "text/plain": [
       "pandas.core.series.Series"
      ]
     },
     "execution_count": 229,
     "metadata": {},
     "output_type": "execute_result"
    }
   ],
   "source": [
    "type(predictions)"
   ]
  },
  {
   "cell_type": "code",
   "execution_count": 230,
   "metadata": {
    "collapsed": true
   },
   "outputs": [],
   "source": [
    "residual = y_test_data - predictions"
   ]
  },
  {
   "cell_type": "code",
   "execution_count": 231,
   "metadata": {
    "scrolled": true
   },
   "outputs": [
    {
     "data": {
      "image/png": "[encoded data removed]",
      "text/plain": [
       "<matplotlib.figure.Figure at 0xf8520b8>"
      ]
     },
     "metadata": {},
     "output_type": "display_data"
    }
   ],
   "source": [
    "# Outliers or skewness in error \n",
    "plt.hist(residual)\n",
    "plt.title('Residual counts')\n",
    "plt.xlabel('Residual')\n",
    "plt.ylabel('Count')\n",
    "plt.show()"
   ]
  },
  {
   "cell_type": "code",
   "execution_count": 232,
   "metadata": {
    "scrolled": true
   },
   "outputs": [
    {
     "data": {
      "image/png": "[encoded data removed]",
      "text/plain": [
       "<matplotlib.figure.Figure at 0xf8645c0>"
      ]
     },
     "metadata": {},
     "output_type": "display_data"
    }
   ],
   "source": [
    "# The distribution of error terms (its \"scedasticity\"), should be consistent for all predicted values, or homoscedastic\n",
    "plt.scatter(predictions, residual)\n",
    "plt.xlabel('Predicted')\n",
    "plt.ylabel('Residual')\n",
    "plt.axhline(y=0)\n",
    "plt.title('Residual vs. Predicted')\n",
    "plt.show()"
   ]
  },
  {
   "cell_type": "code",
   "execution_count": 233,
   "metadata": {
    "scrolled": true
   },
   "outputs": [
    {
     "data": {
      "image/png": "[encoded data removed]",
      "text/plain": [
       "<matplotlib.figure.Figure at 0xf836a90>"
      ]
     },
     "metadata": {},
     "output_type": "display_data"
    }
   ],
   "source": [
    "import numpy as np \n",
    "import pylab\n",
    "import scipy.stats as stats\n",
    "\n",
    "#measurements = np.random.normal(loc = 20, scale = 5, size=100)   \n",
    "stats.probplot(predictions, dist=\"norm\", plot=pylab)\n",
    "pylab.show()"
   ]
  },
  {
   "cell_type": "code",
   "execution_count": null,
   "metadata": {
    "collapsed": true
   },
   "outputs": [],
   "source": []
  },
  {
   "cell_type": "markdown",
   "metadata": {},
   "source": [
    "<h1> Eliminated several high p-value features and tried different holdout ratio and none improved the overfitting problem. </h1>"
   ]
  },
  {
   "cell_type": "code",
   "execution_count": null,
   "metadata": {
    "collapsed": true
   },
   "outputs": [],
   "source": []
  }
 ],
 "metadata": {
  "celltoolbar": "Tags",
  "kernelspec": {
   "display_name": "Python 3",
   "language": "python",
   "name": "python3"
  },
  "language_info": {
   "codemirror_mode": {
    "name": "ipython",
    "version": 3
   },
   "file_extension": ".py",
   "mimetype": "text/x-python",
   "name": "python",
   "nbconvert_exporter": "python",
   "pygments_lexer": "ipython3",
   "version": "3.6.3"
  }
 },
 "nbformat": 4,
 "nbformat_minor": 2
}
