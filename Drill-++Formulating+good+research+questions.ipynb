{
 "cells": [
  {
   "cell_type": "markdown",
   "metadata": {},
   "source": [
    "<h3> Good</h3>\n",
    "- What is the 1994 rate of juvenile delinquency in the U.S.?\n",
    "- How many customers does AT&T currently serve in Washington, DC?\n",
    "- Which genes are associated with increased risk of breast cancer?\n",
    "- Is it better to read to children at night or in the morning?\n",
    "\n",
    "<h3> Bad</h3>\n",
    "- What can we do to reduce juvenile delinquency in the U.S.?\n",
    "- Does education play a role in reducing juvenile delinquents' return to crime?\n",
    "- Why did the Challenger Shuttle explode?\n",
    "- What factors lead consumers to choose AT&T over other service providers?\n",
    "- How can AT&T attract more customers?\n",
    "- How does Google’s search algorithm work?\n",
    "\n",
    "<h3> Improve </h3>\n",
    "- Will having access to a father role (volunteer from parents) visiting the high school once per month reduce the juvenile delinquency in Washington DC by 10% per annum?\n",
    "- Does education above primary school play a role in reducing juvenile delinquents' return to crime?\n",
    "- Does using the material ABC with specificity of DEF on the outside of the rocket engine tolerate pressure and heat similar to the ones experienced by the Challenger Shuttle?\n",
    "- Is there a business customer preference between network speed as provided by AT&T than the one by T-mobile for year 2018 in city of Houston.\n",
    "- Will increase of internet speed from 4G to 5G attract 10,000 new residential customers within 6 months after introduction of such upgrade?\n",
    "\n",
    "- How precise is Google text crawling engine for ranking readable PDF files with contents related to research design in sites with edu domains.\n"
   ]
  },
  {
   "cell_type": "code",
   "execution_count": null,
   "metadata": {
    "collapsed": true
   },
   "outputs": [],
   "source": []
  }
 ],
 "metadata": {
  "kernelspec": {
   "display_name": "Python 3",
   "language": "python",
   "name": "python3"
  },
  "language_info": {
   "codemirror_mode": {
    "name": "ipython",
    "version": 3
   },
   "file_extension": ".py",
   "mimetype": "text/x-python",
   "name": "python",
   "nbconvert_exporter": "python",
   "pygments_lexer": "ipython3",
   "version": "3.6.3"
  }
 },
 "nbformat": 4,
 "nbformat_minor": 2
}
