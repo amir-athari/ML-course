{
 "cells": [
  {
   "cell_type": "markdown",
   "metadata": {},
   "source": [
    "A binomial random variable is a discrete random variable used to calculate probabilities in a situation in which all three of the following apply:\n",
    "\n",
    "Image n independent trials occur.\n",
    "\n",
    "Image Each trial results in one of two outcomes: success or failure.\n",
    "\n",
    "Image In each trial, the probability of success (p) remains constant."
   ]
  },
  {
   "cell_type": "code",
   "execution_count": 25,
   "metadata": {},
   "outputs": [
    {
     "data": {
      "image/png": "[encoded data removed]",
      "text/plain": [
       "<matplotlib.figure.Figure at 0xcca6438>"
      ]
     },
     "metadata": {},
     "output_type": "display_data"
    },
    {
     "name": "stdout",
     "output_type": "stream",
     "text": [
      "sample1 size: 100  -  sample2 size: 100\n",
      "sample1 Mean: 4.08  -  sample2 Mean: 4.8\n",
      "sample1 Std: 1.47431339952  -  sample2 Std: 1.55563491861\n",
      "mean diff:  0.72 se:  0.214326853194 mean diff/se:  3.35935506574\n",
      "Ttest_indResult(statistic=3.3425160871869326, pvalue=0.00099310478995202791)\n"
     ]
    }
   ],
   "source": [
    "import numpy as np\n",
    "import pandas as pd\n",
    "import scipy\n",
    "import matplotlib.pyplot as plt\n",
    "from scipy.stats import ttest_ind\n",
    "\n",
    "%matplotlib inline\n",
    "\n",
    "# binomial(n, p, size=None)\n",
    "\n",
    "pop1 = np.random.binomial(10, 0.4, 10000)\n",
    "pop2 = np.random.binomial(10, 0.5, 10000) \n",
    "\n",
    "sample1 = np.random.choice(pop1, 100, replace=True)\n",
    "sample2 = np.random.choice(pop2, 100, replace=True)\n",
    "\n",
    "plt.hist(sample1, alpha=0.5, label='sample 1') \n",
    "plt.hist(sample2, alpha=0.5, label='sample 2') \n",
    "\n",
    "plt.legend(loc='upper right') \n",
    "plt.show()\n",
    "\n",
    "print(\"sample1 size:\",len(sample1), \" - \",  \"sample2 size:\",len(sample2))\n",
    "print(\"sample1 Mean:\",sample1.mean(), \" - \", \"sample2 Mean:\",sample2.mean())\n",
    "print(\"sample1 Std:\",sample1.std(), \" - \", \"sample2 Std:\",sample2.std())\n",
    "\n",
    "mean_diff=sample2.mean() - sample1.mean()\n",
    "\n",
    "\n",
    "# Calcualte the standard error of the sampling distribution of the difference of the means.\n",
    "\n",
    "size = np.array([len(sample1), len(sample2)])\n",
    "sd = np.array([sample1.std(), sample2.std()])\n",
    "\n",
    "# The squared standard deviations are divided by the sample size and summed, then we take\n",
    "# the square root of the sum. \n",
    "\n",
    "diff_se = (sum(sd ** 2/size))**0.5\n",
    "\n",
    "#The difference between the means divided by the standard error: T-value.  \n",
    "\n",
    "print(\"mean diff: \",mean_diff, \"se: \", diff_se, \"mean diff/se: \", mean_diff/diff_se)\n",
    "print(ttest_ind(sample2, sample1, equal_var=False))"
   ]
  },
  {
   "cell_type": "markdown",
   "metadata": {
    "collapsed": true
   },
   "source": [
    "Given a t-value, we can calculate the probability that a t-value at least this extreme would occur by chance, called a p-value. This tells us how likely it is that we would get the sampling data we observe if the two population means were not, in fact, different from one another. The p-value runs between 0 (It is impossible to get a difference of this size or greater in the absence of a real population difference) and 1 (we will always get a difference of this size or greater in the absence of a real population difference). The lower the p-value, the more confidently we can conclude that there is a meaningful difference between the means of the two groups in the population."
   ]
  }
 ],
 "metadata": {
  "kernelspec": {
   "display_name": "Python 3",
   "language": "python",
   "name": "python3"
  },
  "language_info": {
   "codemirror_mode": {
    "name": "ipython",
    "version": 3
   },
   "file_extension": ".py",
   "mimetype": "text/x-python",
   "name": "python",
   "nbconvert_exporter": "python",
   "pygments_lexer": "ipython3",
   "version": "3.6.3"
  }
 },
 "nbformat": 4,
 "nbformat_minor": 2
}
