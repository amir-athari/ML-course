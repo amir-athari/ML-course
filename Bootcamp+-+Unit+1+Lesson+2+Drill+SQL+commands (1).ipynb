{
 "cells": [
  {
   "cell_type": "markdown",
   "metadata": {},
   "source": [
    "<font face=\"Courier New\" size=\"2\">\n",
    "<font color = \"blue\">SELECT</font>&nbsp;<font color = \"maroon\">trip_id</font><font color = \"silver\">,</font>\n",
    "<br/>&nbsp;&nbsp;&nbsp;&nbsp;&nbsp;&nbsp;&nbsp;<font color = \"maroon\">duration</font>\n",
    "<br/><font color = \"blue\">FROM</font>&nbsp;&nbsp;&nbsp;<font color = \"maroon\">trips</font>\n",
    "<br/><font color = \"blue\">WHERE</font>&nbsp;&nbsp;<font color = \"maroon\">duration</font>&nbsp;<font color = \"silver\">&gt;</font>&nbsp;<font color = \"black\">500</font>\n",
    "<br/><font color = \"blue\">ORDER</font>&nbsp;&nbsp;<font color = \"blue\">BY</font>&nbsp;<font color = \"maroon\">duration</font>&nbsp;<font color = \"blue\">DESC</font>&nbsp;\n",
    "</font>\n",
    "\n",
    "\n"
   ]
  },
  {
   "cell_type": "markdown",
   "metadata": {},
   "source": [
    "<font face=\"Courier New\" size=\"2\">\n",
    "<font color = \"blue\">SELECT</font>&nbsp;<font color = \"silver\">*</font>\n",
    "<br/><font color = \"blue\">FROM</font>&nbsp;&nbsp;&nbsp;<font color = \"maroon\">stations</font>\n",
    "<br/><font color = \"blue\">WHERE</font>&nbsp;&nbsp;<font color = \"maroon\">station_id</font>&nbsp;<font color = \"silver\">=</font>&nbsp;<font color = \"black\">84</font>&nbsp;\n",
    "</font>\n"
   ]
  },
  {
   "cell_type": "markdown",
   "metadata": {},
   "source": [
    "<font face=\"Courier New\" size=\"2\">\n",
    "<font color = \"blue\">SELECT</font>&nbsp;<font color = \"maroon\">mintemperaturef</font>\n",
    "<br/><font color = \"blue\">FROM</font>&nbsp;&nbsp;&nbsp;<font color = \"maroon\">weather</font>\n",
    "<br/><font color = \"blue\">WHERE</font>&nbsp;&nbsp;<font color = \"maroon\">events</font>&nbsp;<font color = \"blue\">LIKE</font>&nbsp;<font color = \"red\">'Rain'</font>\n",
    "<br/>&nbsp;&nbsp;&nbsp;&nbsp;&nbsp;&nbsp;&nbsp;<font color = \"blue\">AND</font>&nbsp;<font color = \"maroon\">zip</font>&nbsp;<font color = \"blue\">LIKE</font>&nbsp;<font color = \"black\">94301</font>&nbsp;\n",
    "</font>\n"
   ]
  },
  {
   "cell_type": "code",
   "execution_count": null,
   "metadata": {
    "collapsed": true
   },
   "outputs": [],
   "source": []
  }
 ],
 "metadata": {
  "kernelspec": {
   "display_name": "Python 3",
   "language": "python",
   "name": "python3"
  },
  "language_info": {
   "codemirror_mode": {
    "name": "ipython",
    "version": 3
   },
   "file_extension": ".py",
   "mimetype": "text/x-python",
   "name": "python",
   "nbconvert_exporter": "python",
   "pygments_lexer": "ipython3",
   "version": "3.6.3"
  }
 },
 "nbformat": 4,
 "nbformat_minor": 2
}
