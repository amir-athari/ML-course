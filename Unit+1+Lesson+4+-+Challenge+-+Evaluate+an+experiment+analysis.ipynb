{
 "cells": [
  {
   "cell_type": "markdown",
   "metadata": {},
   "source": [
    "<h2>Challenge: Evaluate an experiment analysis</h2>"
   ]
  },
  {
   "cell_type": "markdown",
   "metadata": {},
   "source": [
    "\n",
    "A company with work sites in five different countries has sent you data on employee satisfaction rates for workers in Human Resources and workers in Information Technology. Most HR workers are concentrated in three of the countries, while IT workers are equally distributed across worksites. The company requests a report on satisfaction for each job type. You calculate average job satisfaction for HR and for IT and present the report.\n",
    "\n",
    "- Cultural factors are totally ignored among counties. Averaging the results may also make the results incomparable. Also, if the survey is performed by internal HR and then we have many potential sources of biases.\n",
    "\n",
    "\n",
    "\n",
    "When people install the Happy Days Fitness Tracker app, they are asked to \"opt in\" to a data collection scheme where their level of physical activity data is automatically sent to the company for product research purposes. During your interview with the company, they tell you that the app is very effective because after installing the app, the data show that people's activity levels rise steadily.\n",
    "\n",
    "- What is the baseline for such statement if the app is installed for the first time. Also, what does the word activity mean. Could increase in activity level be triggered by the way it is measured, any promotional incentives. Or activities were high initially but was not captured.\n",
    "\n",
    "\n",
    "To prevent cheating, a teacher writes three versions of a test. She stacks the three versions together, first all copies of Version A, then all copies of Version B, then all copies of Version C. As students arrive for the exam, each student takes a test. When grading the test, the teacher finds that students who took Version B scored higher than students who took either Version A or Version C. She concludes from this that Version B is easier, and discards it.\n",
    "\n",
    "- This assumes all groups of students have the same level of proficiency in both the subject matter and test taking skills. Also, how are the grades evaluated? Could outliers have distorted the mean of each group grades? Also, if the plan was to discard one of these and the teacher is the subject matter expert then could be that the faith of group B was already determined in advance.  \n"
   ]
  },
  {
   "cell_type": "code",
   "execution_count": null,
   "metadata": {
    "collapsed": true
   },
   "outputs": [],
   "source": []
  }
 ],
 "metadata": {
  "kernelspec": {
   "display_name": "Python 3",
   "language": "python",
   "name": "python3"
  },
  "language_info": {
   "codemirror_mode": {
    "name": "ipython",
    "version": 3
   },
   "file_extension": ".py",
   "mimetype": "text/x-python",
   "name": "python",
   "nbconvert_exporter": "python",
   "pygments_lexer": "ipython3",
   "version": "3.6.3"
  }
 },
 "nbformat": 4,
 "nbformat_minor": 2
}
