{
 "cells": [
  {
   "cell_type": "markdown",
   "metadata": {},
   "source": [
    "<h2>DRILL: Getting Testy...</h2>"
   ]
  },
  {
   "cell_type": "markdown",
   "metadata": {},
   "source": [
    "<h2>Does a new supplement help people sleep better?</h2>"
   ]
  },
  {
   "cell_type": "markdown",
   "metadata": {},
   "source": [
    "Two versions\n",
    "\n",
    "Prepare two supplements look alike. One actual called the treatment and the control one or placebo.\n",
    "\n",
    "Sample\n",
    "\n",
    "Give the supplements to two randomly selected groups from the same population. One group will get the actual supplement and the control group get the placebo.\n",
    "\n",
    "A hypothesis\n",
    "What we expect to happen is to see if the new supplement help people sleep better. \n",
    "\n",
    "Outcome(s) of interest\n",
    "Better sleep can be measured by hours of uninterrupted sleep, number of turn, rapid eye movement, feeling of complete rest next and etc.\n",
    "\n",
    "Other measured variables\n",
    "Variables like age, type of work, environmental settings can influence the result of such tests. Also, days of measure as for example is a weekend, holiday or similar can influence the results.\n",
    "\n"
   ]
  },
  {
   "cell_type": "markdown",
   "metadata": {},
   "source": [
    "<h2>Will new uniforms help a gym's business?</h2>"
   ]
  },
  {
   "cell_type": "markdown",
   "metadata": {},
   "source": [
    "Two versions:\n",
    "\n",
    "Group A: Old uniform. \n",
    "Group B: New uniform\n",
    "\n",
    "Sample:\n",
    "\n",
    "During randomly selected days the whole wears group A or B.\n",
    "\n",
    "\n",
    "A hypothesis:\n",
    "\n",
    "New uniform increase interactions between employees and clients. New uniform create more personal training opportunities or invite more interest for new activities. New uniform are less intimidating and help to boost the subscription rate.\n",
    "\n",
    "Outcome(s) of interest:\n",
    "\n",
    "Number of new subscription. Number of male versus female in yoga class. Facility usage utilization rate during off peak hours.\n",
    "\n",
    "Other measured variables:\n",
    "\n",
    "Time of day and days of week can influence the test. Also, days after Christmas may distort the results as new ones may sign up more. Age and type of clients may also influence. \n",
    "\n"
   ]
  },
  {
   "cell_type": "markdown",
   "metadata": {},
   "source": [
    "<h2>Will a new homepage improve my online exotic pet rental business?</h2>"
   ]
  },
  {
   "cell_type": "markdown",
   "metadata": {},
   "source": [
    "Two versions:\n",
    "Group A: Stand alone cute and safe pet pictures\n",
    "Group B: Cute and safe pet pictures within the context of caring family picture\n",
    "\n",
    "\n",
    "Sample:\n",
    "Hosted at same domain but landing on 2 sub-sites. Selection between these landing sub-sites is random during day and days of week. \n",
    "\n",
    "A hypothesis:\n",
    "Group A has a generic website theme and feel.\n",
    "Group B has exactly like group A except the main landing image is within the context of a family picture.\n",
    "\n",
    "Outcome(s) of interest:\n",
    "Number of placed orders.\n",
    "Number of downloaded PDFs.\n",
    "Number of sign-up for newsletter or similar.\n",
    "\n",
    "Other measured variables:\n",
    "Recent media coverage about such animals may influence the result.\n",
    "\n",
    "Recent movie hits with focus on related animals can have impact.\n",
    "\n",
    "Technology used to design the site should be exactly same as different people with different devices or browsers may have different experience of the same site.\n",
    "\n",
    "Ranking of the site with search engines can also have influence.\n",
    "\n",
    "The market for such pets should be limited so one group may cannibalize the market share of the group hence impacting the result\n"
   ]
  },
  {
   "cell_type": "markdown",
   "metadata": {},
   "source": [
    "<h2>If I put 'please read' in the email subject will more people read my emails?</h2>"
   ]
  },
  {
   "cell_type": "markdown",
   "metadata": {},
   "source": [
    "Two versions:\n",
    "Two groups one with \"please read\" and one without. Otherwise the contents are the same.\n",
    "\n",
    "\n",
    "Sample:\n",
    "Assuming this is about email marketing where recipients are not expecting the messages. In that case one can test on randomly selected email addresses from same population.\n",
    "\n",
    "\n",
    "A hypothesis:\n",
    "Will adding the \"please read\" result in more reading the email. Or number of deleted emails or market as spam without reading.\n",
    "\n",
    "Outcome(s) of interest:\n",
    "Number of clicks originated from embedder links on emails. \n",
    "\n",
    "Other measured variables:\n",
    "In a limited group such as a small organization one may forward the email to others. \n",
    "Or one may read the emails but do not follow up with embedder links.\n",
    "Ability to force confirmation of sent email when opened. Some people may actual distrust such request and delete the emails.\n",
    "Multiple emails to same domain might be blocked or filtered by spam machine.\n",
    "\n"
   ]
  },
  {
   "cell_type": "code",
   "execution_count": null,
   "metadata": {
    "collapsed": true
   },
   "outputs": [],
   "source": []
  }
 ],
 "metadata": {
  "kernelspec": {
   "display_name": "Python 3",
   "language": "python",
   "name": "python3"
  },
  "language_info": {
   "codemirror_mode": {
    "name": "ipython",
    "version": 3
   },
   "file_extension": ".py",
   "mimetype": "text/x-python",
   "name": "python",
   "nbconvert_exporter": "python",
   "pygments_lexer": "ipython3",
   "version": "3.6.3"
  }
 },
 "nbformat": 4,
 "nbformat_minor": 2
}
