{
 "cells": [
  {
   "cell_type": "markdown",
   "metadata": {},
   "source": [
    "<h1> Random Forest - Prediction using LendingClub Data</h1>"
   ]
  },
  {
   "cell_type": "markdown",
   "metadata": {},
   "source": [
    "Here we will use Lending Club data to predict the state of a loan.\n",
    "\n",
    "Source: https://www.lendingclub.com/info/download-data.action "
   ]
  },
  {
   "cell_type": "code",
   "execution_count": 10,
   "metadata": {
    "collapsed": true
   },
   "outputs": [],
   "source": [
    "import pandas as pd\n",
    "import numpy as np\n",
    "import matplotlib.pyplot as plt\n",
    "%matplotlib inline"
   ]
  },
  {
   "cell_type": "code",
   "execution_count": 11,
   "metadata": {},
   "outputs": [
    {
     "name": "stderr",
     "output_type": "stream",
     "text": [
      "C:\\Users\\aath\\AppData\\Local\\Continuum\\anaconda3\\lib\\site-packages\\IPython\\core\\interactiveshell.py:2698: DtypeWarning: Columns (47) have mixed types. Specify dtype option on import or set low_memory=False.\n",
      "  interactivity=interactivity, compiler=compiler, result=result)\n"
     ]
    }
   ],
   "source": [
    "path1 = (\"C:/Users/aath/Dropbox/MAEN/Thankful/Data/lendClub/LoanStats3d ver7.csv\")\n",
    "y2015 = pd.read_csv(path1)"
   ]
  },
  {
   "cell_type": "code",
   "execution_count": 12,
   "metadata": {},
   "outputs": [
    {
     "data": {
      "text/html": [
       "<div>\n",
       "<style>\n",
       "    .dataframe thead tr:only-child th {\n",
       "        text-align: right;\n",
       "    }\n",
       "\n",
       "    .dataframe thead th {\n",
       "        text-align: left;\n",
       "    }\n",
       "\n",
       "    .dataframe tbody tr th {\n",
       "        vertical-align: top;\n",
       "    }\n",
       "</style>\n",
       "<table border=\"1\" class=\"dataframe\">\n",
       "  <thead>\n",
       "    <tr style=\"text-align: right;\">\n",
       "      <th></th>\n",
       "      <th>loan_amnt</th>\n",
       "      <th>funded_amnt</th>\n",
       "      <th>funded_amnt_inv</th>\n",
       "      <th>term</th>\n",
       "      <th>int_rate</th>\n",
       "      <th>installment</th>\n",
       "      <th>grade</th>\n",
       "      <th>emp_length</th>\n",
       "      <th>home_ownership</th>\n",
       "      <th>annual_inc</th>\n",
       "      <th>...</th>\n",
       "      <th>hardship_payoff_balance_amount</th>\n",
       "      <th>hardship_last_payment_amount</th>\n",
       "      <th>disbursement_method</th>\n",
       "      <th>debt_settlement_flag</th>\n",
       "      <th>debt_settlement_flag_date</th>\n",
       "      <th>settlement_status</th>\n",
       "      <th>settlement_date</th>\n",
       "      <th>settlement_amount</th>\n",
       "      <th>settlement_percentage</th>\n",
       "      <th>settlement_term</th>\n",
       "    </tr>\n",
       "  </thead>\n",
       "  <tbody>\n",
       "    <tr>\n",
       "      <th>0</th>\n",
       "      <td>8650</td>\n",
       "      <td>8650</td>\n",
       "      <td>8650.0</td>\n",
       "      <td>36 months</td>\n",
       "      <td>19.89%</td>\n",
       "      <td>320.99</td>\n",
       "      <td>E</td>\n",
       "      <td>8 years</td>\n",
       "      <td>RENT</td>\n",
       "      <td>55000.0</td>\n",
       "      <td>...</td>\n",
       "      <td>NaN</td>\n",
       "      <td>NaN</td>\n",
       "      <td>Cash</td>\n",
       "      <td>N</td>\n",
       "      <td>NaN</td>\n",
       "      <td>NaN</td>\n",
       "      <td>NaN</td>\n",
       "      <td>NaN</td>\n",
       "      <td>NaN</td>\n",
       "      <td>NaN</td>\n",
       "    </tr>\n",
       "    <tr>\n",
       "      <th>1</th>\n",
       "      <td>15000</td>\n",
       "      <td>15000</td>\n",
       "      <td>15000.0</td>\n",
       "      <td>36 months</td>\n",
       "      <td>9.80%</td>\n",
       "      <td>482.61</td>\n",
       "      <td>B</td>\n",
       "      <td>3 years</td>\n",
       "      <td>MORTGAGE</td>\n",
       "      <td>92000.0</td>\n",
       "      <td>...</td>\n",
       "      <td>NaN</td>\n",
       "      <td>NaN</td>\n",
       "      <td>Cash</td>\n",
       "      <td>N</td>\n",
       "      <td>NaN</td>\n",
       "      <td>NaN</td>\n",
       "      <td>NaN</td>\n",
       "      <td>NaN</td>\n",
       "      <td>NaN</td>\n",
       "      <td>NaN</td>\n",
       "    </tr>\n",
       "  </tbody>\n",
       "</table>\n",
       "<p>2 rows × 137 columns</p>\n",
       "</div>"
      ],
      "text/plain": [
       "   loan_amnt  funded_amnt  funded_amnt_inv        term int_rate  installment  \\\n",
       "0       8650         8650           8650.0   36 months   19.89%       320.99   \n",
       "1      15000        15000          15000.0   36 months    9.80%       482.61   \n",
       "\n",
       "  grade emp_length home_ownership  annual_inc       ...         \\\n",
       "0     E    8 years           RENT     55000.0       ...          \n",
       "1     B    3 years       MORTGAGE     92000.0       ...          \n",
       "\n",
       "  hardship_payoff_balance_amount hardship_last_payment_amount  \\\n",
       "0                            NaN                          NaN   \n",
       "1                            NaN                          NaN   \n",
       "\n",
       "  disbursement_method debt_settlement_flag debt_settlement_flag_date  \\\n",
       "0                Cash                    N                       NaN   \n",
       "1                Cash                    N                       NaN   \n",
       "\n",
       "  settlement_status  settlement_date  settlement_amount settlement_percentage  \\\n",
       "0               NaN              NaN                NaN                   NaN   \n",
       "1               NaN              NaN                NaN                   NaN   \n",
       "\n",
       "   settlement_term  \n",
       "0              NaN  \n",
       "1              NaN  \n",
       "\n",
       "[2 rows x 137 columns]"
      ]
     },
     "execution_count": 12,
     "metadata": {},
     "output_type": "execute_result"
    }
   ],
   "source": [
    "y2015.head(2)"
   ]
  },
  {
   "cell_type": "code",
   "execution_count": 13,
   "metadata": {},
   "outputs": [
    {
     "data": {
      "text/plain": [
       "loan_amnt                                          0\n",
       "funded_amnt                                        0\n",
       "funded_amnt_inv                                    0\n",
       "term                                               0\n",
       "int_rate                                           0\n",
       "installment                                        0\n",
       "grade                                              0\n",
       "emp_length                                         0\n",
       "home_ownership                                     0\n",
       "annual_inc                                         0\n",
       "verification_status                                0\n",
       "issue_d                                            0\n",
       "loan_status                                        0\n",
       "pymnt_plan                                         0\n",
       "title                                            132\n",
       "zip_code                                           0\n",
       "dti                                                2\n",
       "delinq_2yrs                                        0\n",
       "earliest_cr_line                                   0\n",
       "inq_last_6mths                                     0\n",
       "mths_since_last_delinq                        203962\n",
       "mths_since_last_record                        346680\n",
       "open_acc                                           0\n",
       "pub_rec                                            0\n",
       "revol_bal                                          0\n",
       "revol_util                                       162\n",
       "total_acc                                          0\n",
       "initial_list_status                                0\n",
       "out_prncp                                          0\n",
       "out_prncp_inv                                      0\n",
       "                                               ...  \n",
       "sec_app_open_acc                              421095\n",
       "sec_app_revol_util                            421095\n",
       "sec_app_open_act_il                           421095\n",
       "sec_app_num_rev_accts                         421095\n",
       "sec_app_chargeoff_within_12_mths              421095\n",
       "sec_app_collections_12_mths_ex_med            421095\n",
       "sec_app_mths_since_last_major_derog           421095\n",
       "hardship_flag                                      0\n",
       "hardship_type                                 418959\n",
       "hardship_reason                               418959\n",
       "hardship_status                               418959\n",
       "deferral_term                                 418959\n",
       "hardship_amount                               418959\n",
       "hardship_start_date                           418959\n",
       "hardship_end_date                             418959\n",
       "payment_plan_start_date                       418959\n",
       "hardship_length                               418959\n",
       "hardship_dpd                                  418959\n",
       "hardship_loan_status                          418959\n",
       "orig_projected_additional_accrued_interest    419343\n",
       "hardship_payoff_balance_amount                418959\n",
       "hardship_last_payment_amount                  418959\n",
       "disbursement_method                                0\n",
       "debt_settlement_flag                               0\n",
       "debt_settlement_flag_date                     413458\n",
       "settlement_status                             413458\n",
       "settlement_date                               413458\n",
       "settlement_amount                             413458\n",
       "settlement_percentage                         413458\n",
       "settlement_term                               413458\n",
       "Length: 137, dtype: int64"
      ]
     },
     "execution_count": 13,
     "metadata": {},
     "output_type": "execute_result"
    }
   ],
   "source": [
    "# Check null status of the columns\n",
    "y2015.isnull().sum()"
   ]
  },
  {
   "cell_type": "code",
   "execution_count": 14,
   "metadata": {
    "collapsed": true
   },
   "outputs": [],
   "source": [
    "y2015=y2015.dropna(axis='columns')"
   ]
  },
  {
   "cell_type": "code",
   "execution_count": 15,
   "metadata": {},
   "outputs": [
    {
     "name": "stdout",
     "output_type": "stream",
     "text": [
      "term\n",
      "2\n",
      "int_rate\n",
      "111\n",
      "grade\n",
      "7\n",
      "emp_length\n",
      "12\n",
      "home_ownership\n",
      "4\n",
      "verification_status\n",
      "3\n",
      "issue_d\n",
      "12\n",
      "loan_status\n",
      "7\n",
      "pymnt_plan\n",
      "2\n",
      "zip_code\n",
      "914\n",
      "earliest_cr_line\n",
      "668\n",
      "initial_list_status\n",
      "2\n",
      "application_type\n",
      "2\n",
      "hardship_flag\n",
      "2\n",
      "disbursement_method\n",
      "1\n",
      "debt_settlement_flag\n",
      "2\n"
     ]
    }
   ],
   "source": [
    "# Check to see how many unique categories we may need to create\n",
    "categorical = y2015.select_dtypes(include=['object'])\n",
    "for i in categorical:\n",
    "    column = categorical[i]\n",
    "    print(i)\n",
    "    print(column.nunique())"
   ]
  },
  {
   "cell_type": "code",
   "execution_count": 16,
   "metadata": {
    "collapsed": true
   },
   "outputs": [],
   "source": [
    "# We need to drop more columns so ensemble model does not crash \n",
    "y2015 = y2015.drop('int_rate', 1)\n",
    "y2015 = y2015.drop('zip_code', 1)\n",
    "y2015 = y2015.drop('earliest_cr_line', 1)"
   ]
  },
  {
   "cell_type": "code",
   "execution_count": 17,
   "metadata": {},
   "outputs": [
    {
     "data": {
      "text/plain": [
       "array([ 0.98166793,  0.98176292,  0.98188165,  0.98142959,  0.9802655 ,\n",
       "        0.98128666,  0.98019379,  0.95556664,  0.97793768,  0.90027786])"
      ]
     },
     "execution_count": 17,
     "metadata": {},
     "output_type": "execute_result"
    }
   ],
   "source": [
    "from sklearn import ensemble\n",
    "from sklearn.model_selection import cross_val_score\n",
    "\n",
    "rfc = ensemble.RandomForestClassifier()\n",
    "X = y2015.drop('loan_status', 1)\n",
    "Y = y2015['loan_status']\n",
    "X = pd.get_dummies(X)\n",
    "\n",
    "cross_val_score(rfc, X, Y, cv=10)"
   ]
  },
  {
   "cell_type": "code",
   "execution_count": 18,
   "metadata": {},
   "outputs": [
    {
     "data": {
      "text/plain": [
       "<matplotlib.axes._subplots.AxesSubplot at 0x31248438>"
      ]
     },
     "execution_count": 18,
     "metadata": {},
     "output_type": "execute_result"
    },
    {
     "data": {
      "image/png": "[encoded data removed]",
      "text/plain": [
       "<matplotlib.figure.Figure at 0xadd2710>"
      ]
     },
     "metadata": {},
     "output_type": "display_data"
    }
   ],
   "source": [
    "# Let's use correlation matrix to see if there are any variables that may cause overfitting and remove them in a second run\n",
    "\n",
    "y2015_1 = y2015.copy() # Make a new copy\n",
    "\n",
    "import seaborn as sns\n",
    "sns.heatmap(y2015_1.corr())\n"
   ]
  },
  {
   "cell_type": "code",
   "execution_count": 19,
   "metadata": {},
   "outputs": [
    {
     "data": {
      "text/html": [
       "<div>\n",
       "<style>\n",
       "    .dataframe thead tr:only-child th {\n",
       "        text-align: right;\n",
       "    }\n",
       "\n",
       "    .dataframe thead th {\n",
       "        text-align: left;\n",
       "    }\n",
       "\n",
       "    .dataframe tbody tr th {\n",
       "        vertical-align: top;\n",
       "    }\n",
       "</style>\n",
       "<table border=\"1\" class=\"dataframe\">\n",
       "  <thead>\n",
       "    <tr style=\"text-align: right;\">\n",
       "      <th></th>\n",
       "      <th>loan_amnt</th>\n",
       "      <th>funded_amnt</th>\n",
       "      <th>funded_amnt_inv</th>\n",
       "      <th>term</th>\n",
       "      <th>installment</th>\n",
       "      <th>grade</th>\n",
       "      <th>emp_length</th>\n",
       "      <th>home_ownership</th>\n",
       "      <th>annual_inc</th>\n",
       "      <th>verification_status</th>\n",
       "      <th>...</th>\n",
       "      <th>pct_tl_nvr_dlq</th>\n",
       "      <th>pub_rec_bankruptcies</th>\n",
       "      <th>tax_liens</th>\n",
       "      <th>tot_hi_cred_lim</th>\n",
       "      <th>total_bal_ex_mort</th>\n",
       "      <th>total_bc_limit</th>\n",
       "      <th>total_il_high_credit_limit</th>\n",
       "      <th>hardship_flag</th>\n",
       "      <th>disbursement_method</th>\n",
       "      <th>debt_settlement_flag</th>\n",
       "    </tr>\n",
       "  </thead>\n",
       "  <tbody>\n",
       "    <tr>\n",
       "      <th>0</th>\n",
       "      <td>8650</td>\n",
       "      <td>8650</td>\n",
       "      <td>8650.0</td>\n",
       "      <td>36 months</td>\n",
       "      <td>320.99</td>\n",
       "      <td>E</td>\n",
       "      <td>8 years</td>\n",
       "      <td>RENT</td>\n",
       "      <td>55000.0</td>\n",
       "      <td>Verified</td>\n",
       "      <td>...</td>\n",
       "      <td>100.0</td>\n",
       "      <td>1</td>\n",
       "      <td>0</td>\n",
       "      <td>38998</td>\n",
       "      <td>18926</td>\n",
       "      <td>2750</td>\n",
       "      <td>18248</td>\n",
       "      <td>N</td>\n",
       "      <td>Cash</td>\n",
       "      <td>N</td>\n",
       "    </tr>\n",
       "    <tr>\n",
       "      <th>1</th>\n",
       "      <td>15000</td>\n",
       "      <td>15000</td>\n",
       "      <td>15000.0</td>\n",
       "      <td>36 months</td>\n",
       "      <td>482.61</td>\n",
       "      <td>B</td>\n",
       "      <td>3 years</td>\n",
       "      <td>MORTGAGE</td>\n",
       "      <td>92000.0</td>\n",
       "      <td>Not Verified</td>\n",
       "      <td>...</td>\n",
       "      <td>100.0</td>\n",
       "      <td>1</td>\n",
       "      <td>0</td>\n",
       "      <td>347470</td>\n",
       "      <td>53397</td>\n",
       "      <td>36100</td>\n",
       "      <td>47370</td>\n",
       "      <td>N</td>\n",
       "      <td>Cash</td>\n",
       "      <td>N</td>\n",
       "    </tr>\n",
       "    <tr>\n",
       "      <th>2</th>\n",
       "      <td>14025</td>\n",
       "      <td>14025</td>\n",
       "      <td>14025.0</td>\n",
       "      <td>60 months</td>\n",
       "      <td>359.90</td>\n",
       "      <td>D</td>\n",
       "      <td>10+ years</td>\n",
       "      <td>MORTGAGE</td>\n",
       "      <td>39000.0</td>\n",
       "      <td>Verified</td>\n",
       "      <td>...</td>\n",
       "      <td>100.0</td>\n",
       "      <td>0</td>\n",
       "      <td>0</td>\n",
       "      <td>72286</td>\n",
       "      <td>15646</td>\n",
       "      <td>8800</td>\n",
       "      <td>0</td>\n",
       "      <td>N</td>\n",
       "      <td>Cash</td>\n",
       "      <td>N</td>\n",
       "    </tr>\n",
       "    <tr>\n",
       "      <th>3</th>\n",
       "      <td>20000</td>\n",
       "      <td>20000</td>\n",
       "      <td>20000.0</td>\n",
       "      <td>36 months</td>\n",
       "      <td>643.47</td>\n",
       "      <td>B</td>\n",
       "      <td>5 years</td>\n",
       "      <td>RENT</td>\n",
       "      <td>75000.0</td>\n",
       "      <td>Not Verified</td>\n",
       "      <td>...</td>\n",
       "      <td>92.3</td>\n",
       "      <td>0</td>\n",
       "      <td>0</td>\n",
       "      <td>117477</td>\n",
       "      <td>40090</td>\n",
       "      <td>51600</td>\n",
       "      <td>38577</td>\n",
       "      <td>N</td>\n",
       "      <td>Cash</td>\n",
       "      <td>N</td>\n",
       "    </tr>\n",
       "    <tr>\n",
       "      <th>4</th>\n",
       "      <td>15000</td>\n",
       "      <td>15000</td>\n",
       "      <td>15000.0</td>\n",
       "      <td>60 months</td>\n",
       "      <td>344.69</td>\n",
       "      <td>C</td>\n",
       "      <td>4 years</td>\n",
       "      <td>RENT</td>\n",
       "      <td>77213.0</td>\n",
       "      <td>Source Verified</td>\n",
       "      <td>...</td>\n",
       "      <td>100.0</td>\n",
       "      <td>1</td>\n",
       "      <td>0</td>\n",
       "      <td>176208</td>\n",
       "      <td>155521</td>\n",
       "      <td>13800</td>\n",
       "      <td>95668</td>\n",
       "      <td>N</td>\n",
       "      <td>Cash</td>\n",
       "      <td>N</td>\n",
       "    </tr>\n",
       "  </tbody>\n",
       "</table>\n",
       "<p>5 rows × 67 columns</p>\n",
       "</div>"
      ],
      "text/plain": [
       "   loan_amnt  funded_amnt  funded_amnt_inv        term  installment grade  \\\n",
       "0       8650         8650           8650.0   36 months       320.99     E   \n",
       "1      15000        15000          15000.0   36 months       482.61     B   \n",
       "2      14025        14025          14025.0   60 months       359.90     D   \n",
       "3      20000        20000          20000.0   36 months       643.47     B   \n",
       "4      15000        15000          15000.0   60 months       344.69     C   \n",
       "\n",
       "  emp_length home_ownership  annual_inc verification_status  \\\n",
       "0    8 years           RENT     55000.0            Verified   \n",
       "1    3 years       MORTGAGE     92000.0        Not Verified   \n",
       "2  10+ years       MORTGAGE     39000.0            Verified   \n",
       "3    5 years           RENT     75000.0        Not Verified   \n",
       "4    4 years           RENT     77213.0     Source Verified   \n",
       "\n",
       "          ...          pct_tl_nvr_dlq pub_rec_bankruptcies tax_liens  \\\n",
       "0         ...                   100.0                    1         0   \n",
       "1         ...                   100.0                    1         0   \n",
       "2         ...                   100.0                    0         0   \n",
       "3         ...                    92.3                    0         0   \n",
       "4         ...                   100.0                    1         0   \n",
       "\n",
       "   tot_hi_cred_lim  total_bal_ex_mort  total_bc_limit  \\\n",
       "0            38998              18926            2750   \n",
       "1           347470              53397           36100   \n",
       "2            72286              15646            8800   \n",
       "3           117477              40090           51600   \n",
       "4           176208             155521           13800   \n",
       "\n",
       "   total_il_high_credit_limit  hardship_flag  disbursement_method  \\\n",
       "0                       18248              N                 Cash   \n",
       "1                       47370              N                 Cash   \n",
       "2                           0              N                 Cash   \n",
       "3                       38577              N                 Cash   \n",
       "4                       95668              N                 Cash   \n",
       "\n",
       "  debt_settlement_flag  \n",
       "0                    N  \n",
       "1                    N  \n",
       "2                    N  \n",
       "3                    N  \n",
       "4                    N  \n",
       "\n",
       "[5 rows x 67 columns]"
      ]
     },
     "execution_count": 19,
     "metadata": {},
     "output_type": "execute_result"
    }
   ],
   "source": [
    "y2015_1.head()"
   ]
  },
  {
   "cell_type": "code",
   "execution_count": 20,
   "metadata": {
    "collapsed": true
   },
   "outputs": [],
   "source": [
    "# Let's remove features with high correlation and see how the model perform\n",
    "y2015_1 = y2015_1.drop('loan_amnt', 1)\n",
    "y2015_1 = y2015_1.drop('funded_amnt', 1)\n",
    "y2015_1 = y2015_1.drop('funded_amnt_inv', 1)\n",
    "y2015_1 = y2015_1.drop('out_prncp', 1)\n",
    "y2015_1 = y2015_1.drop('out_prncp_inv', 1)\n"
   ]
  },
  {
   "cell_type": "code",
   "execution_count": 21,
   "metadata": {},
   "outputs": [
    {
     "data": {
      "text/plain": [
       "array([ 0.99992876,  0.99995251,  0.99995251,  0.99997625,  0.99992876,\n",
       "        0.9999525 ,  1.        ,  0.99990501,  0.99983376,  0.99912129])"
      ]
     },
     "execution_count": 21,
     "metadata": {},
     "output_type": "execute_result"
    }
   ],
   "source": [
    "from sklearn import ensemble\n",
    "from sklearn.model_selection import cross_val_score\n",
    "\n",
    "rfc = ensemble.RandomForestClassifier()\n",
    "X1 = y2015_1\n",
    "Y1 = Y\n",
    "X1 = pd.get_dummies(X1)\n",
    "\n",
    "cross_val_score(rfc, X1, Y1, cv=10)"
   ]
  },
  {
   "cell_type": "code",
   "execution_count": null,
   "metadata": {
    "collapsed": true
   },
   "outputs": [],
   "source": []
  }
 ],
 "metadata": {
  "kernelspec": {
   "display_name": "Python 3",
   "language": "python",
   "name": "python3"
  },
  "language_info": {
   "codemirror_mode": {
    "name": "ipython",
    "version": 3
   },
   "file_extension": ".py",
   "mimetype": "text/x-python",
   "name": "python",
   "nbconvert_exporter": "python",
   "pygments_lexer": "ipython3",
   "version": "3.6.3"
  }
 },
 "nbformat": 4,
 "nbformat_minor": 2
}
